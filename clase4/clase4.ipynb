{
 "cells": [
  {
   "attachments": {},
   "cell_type": "markdown",
   "metadata": {},
   "source": [
    "## Variables privadas en una clase:\n",
    "\n",
    "    inicializan con _name    # protegido\n",
    "\n",
    "asi los atributos y variables están protegidos y solo se pueden acceder por la misma clase y derivados.\n",
    "\n",
    "    con __name # privado\n",
    "en privado solo la clase puede modificarla.\n",
    "\n",
    "si no pones nada es pública."
   ]
  },
  {
   "cell_type": "code",
   "execution_count": null,
   "metadata": {},
   "outputs": [],
   "source": []
  },
  {
   "attachments": {},
   "cell_type": "markdown",
   "metadata": {},
   "source": [
    "# Vamos a crear una calculadora!"
   ]
  },
  {
   "cell_type": "code",
   "execution_count": null,
   "metadata": {},
   "outputs": [],
   "source": []
  }
 ],
 "metadata": {
  "language_info": {
   "name": "python"
  },
  "orig_nbformat": 4
 },
 "nbformat": 4,
 "nbformat_minor": 2
}
