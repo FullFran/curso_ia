{
 "cells": [
  {
   "attachments": {},
   "cell_type": "markdown",
   "metadata": {},
   "source": [
    "# Clase 3: 19/5/2023\n"
   ]
  },
  {
   "attachments": {},
   "cell_type": "markdown",
   "metadata": {},
   "source": [
    "# Tratamiento de archivos\n",
    "\n",
    "# Direcciones y paths.\n",
    "\n",
    "Camino dentro del disco duro donde está guardado un archivo.\n",
    "\n",
    "path absoluto:\n",
    "\n",
    "    win: c:\\Users\\MuUsers\\Lugar\\folder\\hola.py\n",
    "\n",
    "    lin: /home/users/nombre/folder/hola.py\n",
    "\n",
    "path relativo:\n",
    "\n",
    "    ./carpeta/archivo.txt\n",
    "\n",
    "    acceder a un path por encima:\n",
    "\n",
    "    ../carpeta/archivo.txt\n",
    "\n",
    "    .. sube un nivel.\n",
    "\n",
    "    sube dos niveles: ../.. (podemos subir hasta la raíz así)\n",
    "\n",
    "se abre con file = open(path, forma de abrir='r', modo='t' codificación='utf8')\n",
    "\n",
    "    para abrir en otro modo hay que añadir 't' text, 'b' binario, '+' update\n",
    "\n",
    "Hay que cerrarlo después con file.close()\n",
    "\n",
    "es más sencillo usar\n",
    "\n",
    "                    with open(path)\n",
    "\n",
    "                            haz esto\n",
    "\n",
    "                    se cierra automatico al salir.\n"
   ]
  },
  {
   "cell_type": "code",
   "execution_count": 30,
   "metadata": {},
   "outputs": [
    {
     "name": "stdout",
     "output_type": "stream",
     "text": [
      "hola\n",
      "mundo\n",
      "nino que hases\n"
     ]
    }
   ],
   "source": [
    "archiv = 'prueba.txt'\n",
    "with open(archiv, 'w') as archivo:\n",
    "    archivo.write('hola')\n",
    "\n",
    "with open(archiv, 'a') as archivo:\n",
    "    archivo.write('\\nmundo')\n",
    "    archivo.writelines('\\nnino que hases')\n",
    "\n",
    "with open(archiv) as archivo:\n",
    "    string = archivo.read()\n",
    "\n",
    "print(string)"
   ]
  },
  {
   "cell_type": "code",
   "execution_count": 29,
   "metadata": {},
   "outputs": [
    {
     "name": "stdout",
     "output_type": "stream",
     "text": [
      "'nombre': 'Luis'\n",
      "'apellidos': 'Martín Romero'\n",
      "'Numero de matrícula': 4\n",
      "'repetidor': False\n",
      "'fecha de matriculación en el centro': 12\n",
      "\n"
     ]
    }
   ],
   "source": [
    "path = 'alumno.txt'\n",
    "\n",
    "luis = {'nombre': 'Luis', 'apellidos': 'Martín Romero', 'Numero de matrícula': 4,\n",
    "        'repetidor': False, 'fecha de matriculación en el centro': 12}\n",
    "\n",
    "texto = str(luis)\n",
    "\n",
    "# Limpiamos un poco para dar formato.\n",
    "texto = texto.replace('{', '').replace('}', '').split(sep=',')\n",
    "\n",
    "text = ''\n",
    "for t in texto:\n",
    "    text = text+t.strip()+'\\n'\n",
    "\n",
    "# Lo escribimos\n",
    "with open(path, 'w') as f:\n",
    "    f.write(text)\n",
    "\n",
    "# Lo leemos\n",
    "with open(path) as f:\n",
    "    alumno = f.read()\n",
    "\n",
    "print(alumno)"
   ]
  },
  {
   "attachments": {},
   "cell_type": "markdown",
   "metadata": {},
   "source": [
    "# Clases y objetos\n"
   ]
  },
  {
   "attachments": {},
   "cell_type": "markdown",
   "metadata": {},
   "source": [
    "# Name spaces:\n",
    "\n",
    "Nombres que están definidos en un .py\n",
    "\n",
    "(espacios de nombre de función, espacios de nombre del script, espacios de nombre de python.)\n",
    "\n",
    "Viene a explicar que los nombres están encapsulados.\n",
    "\n",
    "Así pues, un namespace es el conjunto de nombres definidos para objetos concretos.\n",
    "\n",
    "## ejemplo:\n"
   ]
  },
  {
   "cell_type": "code",
   "execution_count": 42,
   "metadata": {},
   "outputs": [
    {
     "name": "stdout",
     "output_type": "stream",
     "text": [
      "2664415848784\n",
      "2664415848784\n",
      "2664415848784\n",
      "2664415848816\n",
      "2664415848816\n"
     ]
    }
   ],
   "source": [
    "a = 2\n",
    "print(id(a))\n",
    "print(id(2))\n",
    "# Ambos nos dan la posición de memoria del número 2.\n",
    "# Referencia al objeto 2, varias variables pueden apuntar al mismo objeto\n",
    "# Así ocupamos menos posiciones de memoria.\n",
    "\n",
    "# Vamos a ilustrarlo\n",
    "b = 2\n",
    "print(id(b))\n",
    "b += 1\n",
    "print(id(b))\n",
    "print(id(3))"
   ]
  },
  {
   "cell_type": "code",
   "execution_count": 43,
   "metadata": {},
   "outputs": [
    {
     "name": "stdout",
     "output_type": "stream",
     "text": [
      "esto es la funcion\n"
     ]
    }
   ],
   "source": [
    "# Así podemos llamar a una función como otro namespace y que funcione\n",
    "def funcion():\n",
    "    print('esto es la funcion')\n",
    "\n",
    "\n",
    "a = funcion\n",
    "\n",
    "a()\n",
    "\n",
    "# Es muy util entender este concepto para renombrar cosas"
   ]
  },
  {
   "attachments": {},
   "cell_type": "markdown",
   "metadata": {},
   "source": [
    "No siempre se puede acceder a todos los namespaces.\n",
    "(Locales y Globales)\n"
   ]
  },
  {
   "cell_type": "code",
   "execution_count": 55,
   "metadata": {},
   "outputs": [
    {
     "name": "stdout",
     "output_type": "stream",
     "text": [
      "a = 30\n",
      "a = 20\n",
      "a = 10\n"
     ]
    }
   ],
   "source": [
    "# Aquí tenemos definiciones locales\n",
    "# Dentro de las funciones\n",
    "def funcion_1():\n",
    "    a = 20\n",
    "\n",
    "    def funcion_2():\n",
    "        a = 30\n",
    "        print('a =', a)\n",
    "    funcion_2()\n",
    "    print('a =', a)\n",
    "\n",
    "\n",
    "a = 10\n",
    "funcion_1()\n",
    "print('a =', a)"
   ]
  },
  {
   "cell_type": "code",
   "execution_count": 54,
   "metadata": {},
   "outputs": [
    {
     "name": "stdout",
     "output_type": "stream",
     "text": [
      "a = 30\n",
      "a = 30\n",
      "a = 30\n"
     ]
    }
   ],
   "source": [
    "# Aquí definimos todo como variables globales.\n",
    "def funcion_1():\n",
    "    global a\n",
    "    a = 20\n",
    "\n",
    "    def funcion_2():\n",
    "        global a\n",
    "        a = 30\n",
    "        print('a =', a)\n",
    "    funcion_2()\n",
    "    print('a =', a)\n",
    "\n",
    "\n",
    "a = 10\n",
    "funcion_1()\n",
    "print('a =', a)"
   ]
  },
  {
   "attachments": {},
   "cell_type": "markdown",
   "metadata": {},
   "source": [
    "## Programación orientada a objetos (OPP):\n",
    "\n",
    "Propiedades de la OPP (en la presentación)\n"
   ]
  },
  {
   "cell_type": "code",
   "execution_count": 61,
   "metadata": {},
   "outputs": [
    {
     "name": "stdout",
     "output_type": "stream",
     "text": [
      "8\n",
      "5\n"
     ]
    }
   ],
   "source": [
    "# Creamos nuestra clase\n",
    "class Five:\n",
    "    x = 5\n",
    "\n",
    "    def suma(self, y):  # Con el método suma\n",
    "        return self.x + y\n",
    "\n",
    "\n",
    "obj = Five()\n",
    "print(obj.suma(3))\n",
    "print(obj.x)"
   ]
  },
  {
   "attachments": {},
   "cell_type": "markdown",
   "metadata": {},
   "source": [
    "# constructor de clases\n",
    "\n",
    "\\_\\_init\\_\\_\n",
    "\n",
    "Es el método que inicializa los parámetros de la clase.\n",
    "Método que tienen todas las clases, lo podemos sobreescribir:\n",
    "\n",
    "def \\_\\_init\\_\\_(self, nombre):\n"
   ]
  },
  {
   "cell_type": "code",
   "execution_count": 107,
   "metadata": {},
   "outputs": [
    {
     "name": "stdout",
     "output_type": "stream",
     "text": [
      "Cuncho\n",
      "Guau!\n",
      "Cuncho\n"
     ]
    }
   ],
   "source": [
    "class perro():\n",
    "    raza = ''\n",
    "    color = ''\n",
    "    edad = '0'\n",
    "    nombre = ''\n",
    "\n",
    "    def __init__(self, _raza, _color, _edad, _nombre):\n",
    "        perro.perricidad = True\n",
    "        self.raza = _raza\n",
    "        self.color = _color\n",
    "        self.nombre = _nombre\n",
    "\n",
    "    def hablar(self):\n",
    "        print('Guau!')\n",
    "\n",
    "    def __str__(self):\n",
    "        return str(self.nombre)\n",
    "\n",
    "\n",
    "# Creamos un objeto.\n",
    "cuncho = perro('labrador', 'crema', 2, 'Cuncho')\n",
    "print(cuncho.nombre)\n",
    "cuncho.hablar()\n",
    "\n",
    "print(cuncho.__str__())"
   ]
  },
  {
   "attachments": {},
   "cell_type": "markdown",
   "metadata": {},
   "source": [
    "## Métodos especiales\n",
    "\n",
    "También existe el destructor de clases ''\\_\\_del\\_\\_(self)''\n",
    "\n",
    "Existen otros que puedes usar como \\_\\_string\\_\\_(self) que\n",
    "devuelve un string de la clase.\n",
    "Están en los apuntes. Mirar.\n"
   ]
  },
  {
   "attachments": {},
   "cell_type": "markdown",
   "metadata": {},
   "source": [
    "## Métodos operadores\n",
    "\n",
    "Siempre existen en la clase sin implementacion, los tienes que sobreescribir con tu implementación.\n",
    "\n",
    "(debo mirar metodos que sean útiles, el más importante es init, tambien str y con clases con metodos numéricos saber como sobreescribir los operadores.)\n"
   ]
  },
  {
   "cell_type": "code",
   "execution_count": null,
   "metadata": {},
   "outputs": [],
   "source": [
    "# No hay que inicializar todos los atributos, solo los que\n",
    "# Van a ser siempre el mismo.\n",
    "class alumno:\n",
    "    def __init__(self, nombre):\n",
    "        alumno.nombre = nombre\n",
    "\n",
    "\n",
    "class estudiante(alumno):\n",
    "    nota = True"
   ]
  },
  {
   "cell_type": "code",
   "execution_count": 66,
   "metadata": {},
   "outputs": [
    {
     "name": "stdout",
     "output_type": "stream",
     "text": [
      "Hola!\n"
     ]
    }
   ],
   "source": [
    "class Persona:\n",
    "    especie = 'homo sapiens'\n",
    "\n",
    "    # Inicializamos la clase.\n",
    "    def __init__(self, edad, nombre, apellido, apodo=''):\n",
    "        self.edad = edad\n",
    "        self.nombre = nombre\n",
    "        self.apellido = apellido\n",
    "        self.apodo = apodo\n",
    "\n",
    "    # Creamos el método saludar\n",
    "    def saludar(self):\n",
    "        print('Hola!')\n",
    "\n",
    "\n",
    "per1 = Persona(30, 'Jorge', 'Jiménez', 'el pelos')\n",
    "per2 = Persona(20, 'Gustavo', 'Gutiérrez')\n",
    "\n",
    "per1.saludar()"
   ]
  },
  {
   "cell_type": "code",
   "execution_count": 114,
   "metadata": {},
   "outputs": [],
   "source": [
    "# Herencia:\n",
    "class animal():\n",
    "    def __init__(self, especie, nombre):\n",
    "        self.especie = especie\n",
    "        self.nombre = nombre\n",
    "\n",
    "\n",
    "class perro(animal):\n",
    "\n",
    "    def __init__(self, raza, color, edad, nombre):\n",
    "        animal.__init__(self, 'canis lupus familiaris', nombre)\n",
    "        self.raza = raza\n",
    "        self.color = color\n",
    "        self.edad = edad\n",
    "\n",
    "\n",
    "juan = perro('Juan', 'Labrador', 'Blanco', 1)"
   ]
  },
  {
   "cell_type": "code",
   "execution_count": 122,
   "metadata": {},
   "outputs": [
    {
     "data": {
      "text/plain": [
       "'canis lupus familiaris'"
      ]
     },
     "execution_count": 122,
     "metadata": {},
     "output_type": "execute_result"
    }
   ],
   "source": [
    "# Herencia:\n",
    "# al usar super().__init__\n",
    "# No tenemos que poner self para hacer la herencia (cosas de python.)\n",
    "class animal():\n",
    "    def __init__(self, especie, nombre):\n",
    "        self.especie = especie\n",
    "        self.nombre = nombre\n",
    "\n",
    "\n",
    "class perro(animal):\n",
    "\n",
    "    def __init__(self, nombre, raza, color, edad):\n",
    "        super().__init__(nombre, 'canis lupus familiaris')\n",
    "        self.raza = raza\n",
    "        self.color = color\n",
    "        self.edad = edad\n",
    "\n",
    "\n",
    "juan = perro('Juan', 'Labrador', 'Blanco', 1)\n",
    "juan.nombre"
   ]
  },
  {
   "attachments": {},
   "cell_type": "markdown",
   "metadata": {},
   "source": [
    "# Multi herencia\n",
    "\n",
    "(dicen que es un dolor de huevos)\n",
    "(de hecho lo es y existe y hay que saberlo.)\n"
   ]
  },
  {
   "cell_type": "code",
   "execution_count": 136,
   "metadata": {},
   "outputs": [
    {
     "name": "stdout",
     "output_type": "stream",
     "text": [
      "soy C\n",
      "soy B\n"
     ]
    }
   ],
   "source": [
    "class A():\n",
    "    def f(self):\n",
    "        print('soy A')\n",
    "\n",
    "\n",
    "class B():\n",
    "    def f(self):\n",
    "        print('soy B')\n",
    "\n",
    "\n",
    "class C(B, A):\n",
    "    def f(self):\n",
    "        print('soy C')\n",
    "\n",
    "\n",
    "ab = C()\n",
    "\n",
    "ab.f()\n",
    "\n",
    "\n",
    "class C(B, A):\n",
    "    pass\n",
    "    # def f(self):\n",
    "    #   print('soy C')\n",
    "\n",
    "\n",
    "ab = C()\n",
    "\n",
    "ab.f()\n",
    "\n",
    "# Aquí hemos visto los ordenes de prioridad para los nombres de\n",
    "# los métodos\n",
    "# primero el de la clase, después de la superior, si hay varias pues\n",
    "# cogemos de izquierda a derecha. ( se pueden anidar de la misma forma)"
   ]
  },
  {
   "cell_type": "code",
   "execution_count": 145,
   "metadata": {},
   "outputs": [
    {
     "name": "stdout",
     "output_type": "stream",
     "text": [
      "soy D\n"
     ]
    }
   ],
   "source": [
    "class A():\n",
    "    def f(self):\n",
    "        print('soy A')\n",
    "\n",
    "\n",
    "class B():\n",
    "    def f(self):\n",
    "        print('soy B')\n",
    "\n",
    "\n",
    "class C(B, A):\n",
    "    def f(self):\n",
    "        print('soy C')\n",
    "\n",
    "\n",
    "class D(C, B):\n",
    "    def f(self):\n",
    "        print('soy D')\n",
    "\n",
    "\n",
    "ab = D()\n",
    "\n",
    "ab.f()"
   ]
  },
  {
   "cell_type": "code",
   "execution_count": 146,
   "metadata": {},
   "outputs": [
    {
     "name": "stdout",
     "output_type": "stream",
     "text": [
      "soy C\n"
     ]
    }
   ],
   "source": [
    "# Más ejemplos para ver el orden de prioridad\n",
    "\n",
    "class A():\n",
    "    def f(self):\n",
    "        print('soy A')\n",
    "\n",
    "\n",
    "class B():\n",
    "    def f(self):\n",
    "        print('soy B')\n",
    "\n",
    "\n",
    "class C(B, A):\n",
    "    def f(self):\n",
    "        print('soy C')\n",
    "\n",
    "\n",
    "class D(C, B):\n",
    "    pass\n",
    "\n",
    "\n",
    "ab = D()\n",
    "\n",
    "ab.f()"
   ]
  },
  {
   "attachments": {},
   "cell_type": "markdown",
   "metadata": {},
   "source": [
    "## Polimorfismo:\n",
    "\n",
    "capacidad de mismo nombre para procesos diferentes.\n",
    "\n",
    "definido implicitamente.\n",
    "\n",
    "ej:\n",
    "\n",
    "len(string)\n",
    "\n",
    "len(list)\n",
    "\n",
    "Son procesos distintos pero tienen el mismo nombre.\n",
    "\n",
    "Podemos hacer dos clases con un metodo llamado igual pero que se\n",
    "refieren a cosas distintas.\n"
   ]
  },
  {
   "cell_type": "code",
   "execution_count": 150,
   "metadata": {},
   "outputs": [
    {
     "name": "stdout",
     "output_type": "stream",
     "text": [
      "Guau!\n",
      "Miau!\n"
     ]
    }
   ],
   "source": [
    "class perro():\n",
    "    def hablar(self):\n",
    "        print('Guau!')\n",
    "\n",
    "\n",
    "class gato():\n",
    "    def hablar(self):\n",
    "        print('Miau!')\n",
    "\n",
    "\n",
    "def mostrar_sonido(animal):\n",
    "    animal.hablar()\n",
    "\n",
    "\n",
    "perro1 = perro()\n",
    "gato1 = gato()\n",
    "\n",
    "mostrar_sonido(perro1)\n",
    "mostrar_sonido(gato1)"
   ]
  },
  {
   "attachments": {},
   "cell_type": "markdown",
   "metadata": {},
   "source": [
    "# Ejercicios a hacer.\n",
    "\n",
    "de entregables obligatorios hacer:\n",
    "\n",
    "el 12,\n"
   ]
  },
  {
   "attachments": {},
   "cell_type": "markdown",
   "metadata": {},
   "source": [
    "12. cree un programa que en el cual haya una clase animal, que contenga los siguientes\n",
    "\n",
    "atributos y métodos:\n",
    "\n",
    "● Reino\n",
    "\n",
    "● Regiones en las que habita\n",
    "\n",
    "● Población\n",
    "\n",
    "● Un constructor que rellene los campos anteriores\n",
    "\n",
    "● Un método por el cual se imprima por pantalla el sonido del animal\n",
    "\n",
    "a) Cree la clase animal y su constructor\n",
    "\n",
    "b) Cree la clase mamífero que herede de animal, por la cual se añaden los\n",
    "atributos:\n",
    "\n",
    "● Filo\n",
    "\n",
    "c) Cree dos clases, perro y gato, que hereden de mamífero y que sobreescriban\n",
    "el sonido realizado por el animal. Y que además añada\n",
    "\n",
    "● Nombre\n",
    "\n",
    "● Edad\n",
    "\n",
    "● Género\n",
    "\n",
    "d) Escriba una funcionalidad por la cual se genere una jauría, que contiene\n",
    "varios perros, y otra que muestre por pantalla los nombres de los animales\n",
    "de la jauría, su edad y su género\n",
    "\n",
    "e) Una funcionalidad que guarde los datos de los miembros de la jauría en un\n",
    "archivo .txt y otro que, dado un .txt con el mismo formato, cree una jauría\n",
    "nueva\n"
   ]
  },
  {
   "cell_type": "code",
   "execution_count": 492,
   "metadata": {},
   "outputs": [],
   "source": [
    "class animal:\n",
    "    def __init__(self, Reino, regiones, Poblacion):\n",
    "        self.Reino = Reino\n",
    "        self.Regiones_habita = regiones\n",
    "        self.Poblacion = Poblacion\n",
    "\n",
    "        def hablar(self):\n",
    "            pass  # cada bisho habla de una forma, ya lo llenaremos.\n",
    "\n",
    "\n",
    "class mamifero(animal):\n",
    "    def __init__(self, reino, regiones, poblacion, filo):\n",
    "        super().__init__(reino, regiones, poblacion)\n",
    "        self.filo = filo\n",
    "\n",
    "\n",
    "class perro(mamifero):\n",
    "    def __init__(self, nombre, edad, genero):\n",
    "        super().__init__('Animalia', ['europa', 'africa', 'asia', 'america'],\n",
    "                         50000000, 'chordata')\n",
    "        self.nombre = nombre\n",
    "        self.edad = edad\n",
    "        self.genero = genero\n",
    "\n",
    "    def hablar(self):\n",
    "        print('guau guau')\n",
    "\n",
    "\n",
    "class gato(mamifero):\n",
    "    def __init__(self, nombre, edad, genero):\n",
    "        super().__init__('Animalia', ['europa', 'africa', 'asia', 'america'],\n",
    "                         50000000, 'chordata')\n",
    "        self.nombre = nombre\n",
    "        self.edad = edad\n",
    "        self.genero = genero\n",
    "\n",
    "    def hablar(self):\n",
    "        print('miau miau')\n",
    "\n",
    "\n",
    "class jauria:\n",
    "    def __init__(self, fuente=None):\n",
    "        self.perros = []\n",
    "\n",
    "        # Aquí hay un bug, no funciona :(\n",
    "        if fuente is not None:\n",
    "            if str(fuente).endswith('.txt'):\n",
    "                self.crear_txt(fuente)\n",
    "            elif type(fuente) == 'list':\n",
    "                self.perros = fuente\n",
    "        # Aquí acaba el bug :(\n",
    "            \n",
    "    def agregar_perro(self, perro):\n",
    "        self.perros.append(perro)\n",
    "\n",
    "    def mostrar_jauria(self):\n",
    "        for perro in self.perros:\n",
    "            print(\n",
    "                f'Nombre: {perro.nombre} Edad: {perro.edad} Genero: {perro.genero}')\n",
    "\n",
    "    def guardar_txt(self, nombre_archivo):\n",
    "        with open(nombre_archivo, 'w') as f:\n",
    "            for perro in self.perros:\n",
    "                lin = f'{perro.nombre}, {perro.edad}, {perro.genero}\\n'\n",
    "                f.write(lin)\n",
    "\n",
    "    def crear_txt(self, nombre_archivo):\n",
    "        Jauria = jauria()\n",
    "        with open(nombre_archivo, 'r') as f:\n",
    "            for lin in f:\n",
    "                datos = lin.strip().split(',')\n",
    "                nombre = datos[0]\n",
    "                edad = int(datos[1])\n",
    "                genero = datos[2]\n",
    "                Perro = perro(nombre, edad, genero)\n",
    "                Jauria.agregar_perro(Perro)\n",
    "            return Jauria"
   ]
  },
  {
   "cell_type": "code",
   "execution_count": 479,
   "metadata": {},
   "outputs": [
    {
     "data": {
      "text/plain": [
       "[]"
      ]
     },
     "execution_count": 479,
     "metadata": {},
     "output_type": "execute_result"
    }
   ],
   "source": [
    "juan= jauria('loschavales.txt')\n",
    "juan.perros"
   ]
  },
  {
   "cell_type": "code",
   "execution_count": 481,
   "metadata": {},
   "outputs": [
    {
     "name": "stdout",
     "output_type": "stream",
     "text": [
      "miau miau\n",
      "guau guau\n"
     ]
    }
   ],
   "source": [
    "miau = gato('miau', 3, 'F')\n",
    "miau.hablar()\n",
    "guts = perro('Guts', 1, 'M')\n",
    "guts.hablar()"
   ]
  },
  {
   "cell_type": "code",
   "execution_count": 482,
   "metadata": {},
   "outputs": [
    {
     "name": "stdout",
     "output_type": "stream",
     "text": [
      "Nombre: Juan Edad: 23 Genero: M\n",
      "Nombre: Ivan Edad: 22 Genero: M\n",
      "Nombre: Guts Edad: 1 Genero: M\n"
     ]
    }
   ],
   "source": [
    "los_chavales = jauria()\n",
    "juan = perro('Juan', 23, 'M')\n",
    "ivan = perro('Ivan', 22, 'M')\n",
    "guts = perro('Guts', 1, 'M')\n",
    "los_chavales.agregar_perro(juan)\n",
    "los_chavales.agregar_perro(ivan)\n",
    "los_chavales.agregar_perro(guts)\n",
    "los_chavales.mostrar_jauria()\n",
    "\n",
    "los_chavales.guardar_txt('loschavales.txt')"
   ]
  },
  {
   "cell_type": "code",
   "execution_count": 490,
   "metadata": {},
   "outputs": [
    {
     "name": "stdout",
     "output_type": "stream",
     "text": [
      "Nombre: Juan Edad: 23 Genero:  M\n",
      "Nombre: Ivan Edad: 22 Genero:  M\n",
      "Nombre: Guts Edad: 1 Genero:  M\n"
     ]
    }
   ],
   "source": [
    "chavales = jauria().crear_txt('loschavales.txt')\n",
    "chavales.mostrar_jauria()"
   ]
  },
  {
   "cell_type": "code",
   "execution_count": 488,
   "metadata": {},
   "outputs": [
    {
     "name": "stdout",
     "output_type": "stream",
     "text": [
      "[]\n"
     ]
    }
   ],
   "source": [
    "hola = jauria([juan, guts])\n",
    "print(hola.perros)\n",
    "hola.mostrar_jauria()"
   ]
  }
 ],
 "metadata": {
  "kernelspec": {
   "display_name": "cursoIA",
   "language": "python",
   "name": "python3"
  },
  "language_info": {
   "codemirror_mode": {
    "name": "ipython",
    "version": 3
   },
   "file_extension": ".py",
   "mimetype": "text/x-python",
   "name": "python",
   "nbconvert_exporter": "python",
   "pygments_lexer": "ipython3",
   "version": "3.9.16"
  },
  "orig_nbformat": 4
 },
 "nbformat": 4,
 "nbformat_minor": 2
}
