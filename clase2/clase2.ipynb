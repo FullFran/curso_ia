{
 "cells": [
  {
   "attachments": {},
   "cell_type": "markdown",
   "metadata": {},
   "source": [
    "# Control de flujo en python\n",
    "\n",
    "## Bloque de codigo: \n",
    "(se ejecuta de arriba abajo.)\n",
    "Algo está dentro de algo con la indentación.\n",
    "\n",
    "## Condicionales:\n",
    "Las condiciones son booleanos.\n",
    "\n",
    "## Bucles:\n",
    "Bucles while y bucles for.\n",
    "break rompe el bucle y continue se salta el código de debajo y empieza de nuevo \n",
    "el bucle. (ojo con el orden de las cosas.)\n",
    "range(inicio, fin, salto) '''de fin acaba en uno antes del que pones'''\n",
    "\n",
    "creamos diccionario:\n",
    "dct= {'PATATA':'tuberculo',\n",
    "       'PERA':'fruta', \n",
    "    }\n",
    "puedo iterar en un diccionario:\n",
    "for key, item in dct.items():\n",
    "    print(key,item)\n",
    "for i, elem in enumerate(dct):\n",
    "    print(i,elem)\n",
    "    \n",
    "lis_1=[]"
   ]
  },
  {
   "cell_type": "code",
   "execution_count": 76,
   "metadata": {},
   "outputs": [
    {
     "ename": "TypeError",
     "evalue": "'list' object is not callable",
     "output_type": "error",
     "traceback": [
      "\u001b[1;31m---------------------------------------------------------------------------\u001b[0m",
      "\u001b[1;31mTypeError\u001b[0m                                 Traceback (most recent call last)",
      "Cell \u001b[1;32mIn[76], line 1\u001b[0m\n\u001b[1;32m----> 1\u001b[0m list_1\u001b[39m=\u001b[39m\u001b[39mlist\u001b[39;49m(\u001b[39mrange\u001b[39;49m(\u001b[39m10\u001b[39;49m))\n\u001b[0;32m      2\u001b[0m list_2\u001b[39m=\u001b[39m[elem\u001b[39m*\u001b[39m\u001b[39m10\u001b[39m \u001b[39mfor\u001b[39;00m elem \u001b[39min\u001b[39;00m list_1]\n\u001b[0;32m      4\u001b[0m \u001b[39mfor\u001b[39;00m i,j \u001b[39min\u001b[39;00m \u001b[39mzip\u001b[39m(list_1,list_2): \u001b[39m#zip recorre dos listas de tamaño diferente y se para en la lista de tamaño menor.\u001b[39;00m\n",
      "\u001b[1;31mTypeError\u001b[0m: 'list' object is not callable"
     ]
    }
   ],
   "source": [
    "list_1=list(range(10))\n",
    "list_2=[elem*10 for elem in list_1]\n",
    "\n",
    "for i,j in zip(list_1,list_2): #zip recorre dos listas de tamaño diferente y se para en la lista de tamaño menor.\n",
    "    print(i,j)"
   ]
  },
  {
   "cell_type": "code",
   "execution_count": 15,
   "metadata": {},
   "outputs": [
    {
     "name": "stdout",
     "output_type": "stream",
     "text": [
      "PATATA tuberculo\n",
      "PERA fruta\n",
      "0 PATATA\n",
      "1 PERA\n",
      "dict_items([('PATATA', 'tuberculo'), ('PERA', 'fruta')])\n"
     ]
    }
   ],
   "source": [
    "#creamos diccionario:\n",
    "dct= {'PATATA':'tuberculo',\n",
    "       'PERA':'fruta', \n",
    "    }\n",
    "#puedo iterar en un diccionario:\n",
    "for key, item in dct.items():\n",
    "    print(key,item)\n",
    "for i, elem in enumerate(dct):\n",
    "    print(i,elem)\n",
    "print(dct.items())"
   ]
  },
  {
   "attachments": {},
   "cell_type": "markdown",
   "metadata": {},
   "source": [
    "# Trabajamos con listas diccionarios y strings\n",
    "\n",
    "son los tipos más utilizados, los siguientes son las\n",
    "tuplas y los sets.\n",
    "\n",
    "## Listas\n",
    "Acceso a los elementos: x[i] de derecha a izquierda\n",
    "o de izquierda a derecha. (los indices empiezan en cero\n",
    "de esta forma el elemento -1 es el último elemento)\n",
    "x[i:j:salto] siempre te va a quitar el ultimo valor a la derecha. (j)\n",
    "para llegar al ultimo hay que poner uno más del último.\n",
    "no hay que poner el primero y el ultimo x[::2] coge todos \n",
    "los de posiciones 0,2,4...\n",
    "\n",
    "funciones len() la longitud, e index() da índice del elemento, index es un método\n",
    "de la clase lista."
   ]
  },
  {
   "cell_type": "code",
   "execution_count": 16,
   "metadata": {},
   "outputs": [
    {
     "name": "stdout",
     "output_type": "stream",
     "text": [
      "4\n",
      "2\n"
     ]
    }
   ],
   "source": [
    "lst=[1,2,3,4]\n",
    "print(len(lst))\n",
    "print(lst.index(3))"
   ]
  },
  {
   "attachments": {},
   "cell_type": "markdown",
   "metadata": {},
   "source": [
    "# Print:"
   ]
  },
  {
   "cell_type": "code",
   "execution_count": 20,
   "metadata": {},
   "outputs": [
    {
     "name": "stdout",
     "output_type": "stream",
     "text": [
      "4 2\n",
      "4 2 blablaba\n"
     ]
    }
   ],
   "source": [
    "print(len(lst),lst.index(3)) # concatenar\n",
    "print(f'{len(lst)} {lst.index(3)} blablaba') #poner todas las variables entre llaves\n",
    "# puedes poner lo que te de la gana de texto siguiento este formato. python3\n",
    "#también se puede hacer con el método format (me parece menos cómodo.)"
   ]
  },
  {
   "attachments": {},
   "cell_type": "markdown",
   "metadata": {},
   "source": [
    "## Strings:\n",
    "Hay una tabla con métodos de la clase string y su explicación."
   ]
  },
  {
   "cell_type": "code",
   "execution_count": 68,
   "metadata": {},
   "outputs": [
    {
     "name": "stdout",
     "output_type": "stream",
     "text": [
      "Hola mundo ESTO ES USANDO str.capitalize()\n",
      "hola mundo\n",
      "hola Mundo\n",
      "True\n",
      "8\n",
      "paco /va /al /bar\n",
      "hola      mundo\n",
      "hola      mundo       \n",
      "       hola      mundo\n",
      "['hola', 'Mundo']\n",
      "['h', 'la Mund', '']\n"
     ]
    }
   ],
   "source": [
    "str='hola Mundo'\n",
    "print(f'{str.capitalize()} ESTO ES USANDO str.capitalize()')\n",
    "print(f'{str.casefold()}')   #no guarda el metodo, st sigue igual.\n",
    "print(f'{str}') #se queda igual.\n",
    "print(str.endswith('o')) # es muy util para saber la extension\n",
    "print(str.find('do')) # te devuelve el indice\n",
    "\n",
    "list=['paco', 'va','al','bar']\n",
    "st=' /'\n",
    "print(st.join(list)) #añade un string al final del este\n",
    "\n",
    "st='       hola      mundo       '\n",
    "print(st.strip()) #quita derecha e izquierda\n",
    "print(st.lstrip()) #quita solo izquierda\n",
    "print(st.rstrip()) #quita solo de la derecha\n",
    "\n",
    "print(str.split()) #separa por defecto por los espacios, pero puedes elegir.\n",
    "print(str.split('o')) #aqui hemos elegido separar por o eliminando este."
   ]
  },
  {
   "attachments": {},
   "cell_type": "markdown",
   "metadata": {},
   "source": [
    "#listas\n",
    "list=[] o list=list()\n",
    "\n",
    "Pueden contener cualquier tipo de elemento.\n",
    "\n",
    "vamos a ver los métodos de las listas.\n",
    "\n",
    "puede haber una lista dentro de una lista.\n",
    "extend() extiende la lista en vez de añadir\n",
    "también se puede usar el operador + "
   ]
  },
  {
   "cell_type": "code",
   "execution_count": 77,
   "metadata": {},
   "outputs": [
    {
     "name": "stdout",
     "output_type": "stream",
     "text": [
      "[1, 2, 3, 4, 5, 6]\n"
     ]
    }
   ],
   "source": [
    "list_1=[1,2,3]\n",
    "list_2=[4,5,6]\n",
    "list_1+=list_2 #funciona igual sumar lists que el extend()\n",
    "print(list_1)"
   ]
  },
  {
   "attachments": {},
   "cell_type": "markdown",
   "metadata": {},
   "source": [
    "# Diccionarios\n",
    "\n",
    "Se componen de clave y valor.\n",
    "se puede llenar de dos formas (igual que en pandas.)\n"
   ]
  },
  {
   "cell_type": "code",
   "execution_count": 88,
   "metadata": {},
   "outputs": [
    {
     "name": "stdout",
     "output_type": "stream",
     "text": [
      "{'nombre': 'Pepe'}\n",
      "{'nombre': 'Pepe', 'apellido': 'García', 'Edad': 56, 'blood_type': 'A+'}\n",
      "56\n",
      "nombre\n",
      "apellido\n",
      "Edad\n",
      "blood_type\n"
     ]
    },
    {
     "data": {
      "text/plain": [
       "'Pepe'"
      ]
     },
     "execution_count": 88,
     "metadata": {},
     "output_type": "execute_result"
    }
   ],
   "source": [
    "dct= {}\n",
    "dct['nombre']='Pepe'\n",
    "print(dct)\n",
    "dct['apellido']='García'   #Estamos añadiendo campos igual que en pandas\n",
    "dct['Edad']=56\n",
    "dct['blood_type']='A+'\n",
    "print(dct)\n",
    "print(dct['Edad']) #imprimir valor de una key\n",
    "#podemos iterar como antes\n",
    "for elem in dct:\n",
    "    print(elem)  #nos da las keys\n",
    "#podemos usar métodos para sacar lo que nos interesa o modificar el diccionario.\n",
    "dct.get('nombre') #nos imprime el valor de nombre en el dct\n",
    "# se usan items, get, values... y poco mas"
   ]
  },
  {
   "cell_type": "code",
   "execution_count": 92,
   "metadata": {},
   "outputs": [
    {
     "name": "stdout",
     "output_type": "stream",
     "text": [
      "[1, 2, 3, 4]\n"
     ]
    }
   ],
   "source": [
    "#se puede hacer en una linea el crear una lista con un bucle:\n",
    "list_1=[1,2,3,4]\n",
    "list_2=[item for item in list_1]\n",
    "'''\n",
    "Es lo mismo que esto.\n",
    "list_2=[]\n",
    "for elem in list_1:\n",
    "    list_2.append(elem)\n",
    "print(list_2)\n",
    "'''\n",
    "print(list_2)"
   ]
  },
  {
   "cell_type": "code",
   "execution_count": 96,
   "metadata": {},
   "outputs": [
    {
     "name": "stdout",
     "output_type": "stream",
     "text": [
      "[1, 2, 'a', 'a']\n"
     ]
    }
   ],
   "source": [
    "list_1=[1,2,3,4]\n",
    "list_2=[item if item<3 else 'a' for item in list_1]\n",
    "#[item if else for] orden de la sintaxis\n",
    "#forma muy pythonic de rellenar listas.\n",
    "'''\n",
    "Es lo mismo que esto.\n",
    "list_2=[]\n",
    "for elem in list_1:\n",
    "    if elem<3:\n",
    "        list_2.append('a')\n",
    "    else:\n",
    "        list_2.append(elem)\n",
    "print(list_2)\n",
    "'''\n",
    "print(list_2)"
   ]
  },
  {
   "attachments": {},
   "cell_type": "markdown",
   "metadata": {},
   "source": [
    "# Funciones:\n",
    "Bloque de código que se puede llamar en cualquier parte del código.\n",
    "Son muy útiles para reutilizar código.\n",
    "\n",
    "ejemplo de función que devuelve True si un número es par y False si es impar\n",
    "\n",
    "También ejemplo de calcular el factorial de un número.\n",
    "\n",
    "argumentos predefinidos:"
   ]
  },
  {
   "cell_type": "code",
   "execution_count": 106,
   "metadata": {},
   "outputs": [
    {
     "name": "stdout",
     "output_type": "stream",
     "text": [
      "Paco\n",
      "Lucía\n",
      "Manolo\n",
      "Paco\n"
     ]
    }
   ],
   "source": [
    "def nombre(edad,nombre='Paco'):\n",
    "    print(nombre)\n",
    "nombre(23) #printea el valor por defecto\n",
    "nombre(17,'Lucía') #printea el valor que le has puesto\n",
    "#python entiende los argumentos en orden si no pones nombre\n",
    "#pero puedes poner nombre.\n",
    "nombre(edad=34,\n",
    "       nombre='Manolo')\n",
    "#los parámetros no definidos van siempre antes de los parámetros definidos.\n",
    "def nombre(edad,peso,nombre='Paco',poblacion='Madrid'):\n",
    "    print(nombre)\n",
    "nombre(34,90)"
   ]
  },
  {
   "attachments": {},
   "cell_type": "markdown",
   "metadata": {},
   "source": [
    "## *args y **kwargs\n",
    "\n",
    "*args==argumentos arbitrarios (obligatorios) se usa una tupla\n",
    "\n",
    "**kwargs== argumentos arbitrarios de palabra clave (predefinidos) se usa un diccionario."
   ]
  },
  {
   "cell_type": "code",
   "execution_count": 115,
   "metadata": {},
   "outputs": [
    {
     "name": "stdout",
     "output_type": "stream",
     "text": [
      "('pasta', 'tomate')\n"
     ]
    },
    {
     "data": {
      "text/plain": [
       "4"
      ]
     },
     "execution_count": 115,
     "metadata": {},
     "output_type": "execute_result"
    }
   ],
   "source": [
    "def receta(*ingredientes):\n",
    "    for elem in ingredientes:\n",
    "        print(elem)\n",
    "receta(('pasta','tomate'))\n",
    "'''\n",
    "def nombre_completo(**kwargs):\n",
    "    print(f'apellido: kwargs['apellido']')\n",
    "nombre_completo({'nombre':'fran','apellido':'olmedo'})\n",
    "'''\n",
    "2+2"
   ]
  },
  {
   "cell_type": "markdown",
   "metadata": {},
   "source": []
  }
 ],
 "metadata": {
  "kernelspec": {
   "display_name": "cursoIA",
   "language": "python",
   "name": "python3"
  },
  "language_info": {
   "codemirror_mode": {
    "name": "ipython",
    "version": 3
   },
   "file_extension": ".py",
   "mimetype": "text/x-python",
   "name": "python",
   "nbconvert_exporter": "python",
   "pygments_lexer": "ipython3",
   "version": "3.9.16"
  },
  "orig_nbformat": 4
 },
 "nbformat": 4,
 "nbformat_minor": 2
}
