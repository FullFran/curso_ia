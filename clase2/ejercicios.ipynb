{
 "cells": [
  {
   "attachments": {},
   "cell_type": "markdown",
   "metadata": {},
   "source": [
    "# ejercicios"
   ]
  },
  {
   "attachments": {},
   "cell_type": "markdown",
   "metadata": {},
   "source": [
    "3) Hacer una lista de diccionarios que guarden información sobre alumnos, con su\n",
    "nombre, apellidos y número de matrícula. A partir de eso:\n",
    "a) ordenar la lista según sus campos.\n",
    "b) añadir a cada elemento de la lista un campo booleano de repetidor, que\n",
    "indica si han repetido curso. Si ninguno lo ha hecho, que salga por pantalla\n",
    "un mensaje indicándolo. Si alguno sí, que salgan por pantalla los repetidores\n",
    "y si todos son repetidores, que salga por pantalla un mensaje de “curso de\n",
    "repetición”\n",
    "c) Añadir un campo a cada alumno con la fecha de matriculación en el centro\n",
    "d) Crear un nuevo alumno, comprobar que no existe por su nombre y apellidos\n",
    "y añadirlo a la lista en tal caso\n",
    "e) Sacar un alumno de la lista si este se desmatricula buscándolo por su\n",
    "número de matrícula\n",
    "4)\n",
    "5) Crear una clase vector que tenga atributos (x, y, z) y otra clase triángulo que\n",
    "contenga 3 elementos de tipo vector (p1, p2, p3).\n",
    "a) En el constructor de triángulo, debemos generar un atributo más que sea la\n",
    "normal del plano del triángulo y normalizarla (que su módulo sea 1)\n",
    "b) Generar un método en cada clase que visualice sus atributos\n",
    "c) crear un método en la clase vector que normalice el vector\n",
    "d) crear un método que invierta un vector ([1, 2, 3] -> [-1, -2, -3])"
   ]
  },
  {
   "cell_type": "code",
   "execution_count": 363,
   "metadata": {},
   "outputs": [
    {
     "name": "stdout",
     "output_type": "stream",
     "text": [
      "{'nombre': 'Pepe', 'apellidos': 'Martín Romero', 'Numero de matrícula': 1, 'repetidor': True}\n"
     ]
    }
   ],
   "source": [
    "import random\n",
    "# a)\n",
    "# Creamos la lista de diccionarios con los alumnos\n",
    "lst = [\n",
    "    {'nombre': 'Pepe', 'apellidos': 'Martín Romero', 'Numero de matrícula': 1},\n",
    "    {'nombre': 'Manolo', 'apellidos': 'Julián Vázquez', 'Numero de matrícula': 2},\n",
    "    {'nombre': 'Ana', 'apellidos': 'Fernandez Narváez', 'Numero de matrícula': 3}\n",
    "]\n",
    "#b)\n",
    "for alumno in lst:\n",
    "    rep = [True, False]\n",
    "    alumno['repetidor'] = random.choice(rep)\n",
    "\n",
    "repetidores = [alumno for alumno in lst if alumno['repetidor']]\n",
    "\n",
    "if len(repetidores)==0:\n",
    "    print('No hay repetidores')\n",
    "for alumno in repetidores:\n",
    "    print(alumno)\n",
    "\n",
    "if len(lst_conrepetir)==len(repetidores):\n",
    "    print('Este es un curso de repetición')\n",
    "\n"
   ]
  },
  {
   "attachments": {},
   "cell_type": "markdown",
   "metadata": {},
   "source": [
    "d) Crear un nuevo alumno, comprobar que no existe por su nombre y apellidos\n",
    "y añadirlo a la lista en tal caso\n",
    "\n",
    "e) Sacar un alumno de la lista si este se desmatricula buscándolo por su\n",
    "número de matrícula"
   ]
  },
  {
   "cell_type": "code",
   "execution_count": 364,
   "metadata": {},
   "outputs": [
    {
     "name": "stdout",
     "output_type": "stream",
     "text": [
      "{'nombre': 'Pepe', 'apellidos': 'Martín Romero', 'Numero de matrícula': 1, 'repetidor': True, 'fecha de matriculación en el centro': 15}\n",
      "{'nombre': 'Manolo', 'apellidos': 'Julián Vázquez', 'Numero de matrícula': 2, 'repetidor': False, 'fecha de matriculación en el centro': 12}\n",
      "{'nombre': 'Ana', 'apellidos': 'Fernandez Narváez', 'Numero de matrícula': 3, 'repetidor': False, 'fecha de matriculación en el centro': 17}\n",
      "{'nombre': 'Luis', 'apellidos': 'Martín Romero', 'Numero de matrícula': 4, 'repetidor': False, 'fecha de matriculación en el centro': 12}\n",
      "Se ha eliminado el alumno\n"
     ]
    }
   ],
   "source": [
    "#c)\n",
    "for alumno in lst:\n",
    "     fecha=[17,15,12,19]\n",
    "     alumno['fecha de matriculación en el centro']=random.choice(fecha)\n",
    "\n",
    "#d)\n",
    "luis={'nombre': 'Luis', 'apellidos': 'Martín Romero', 'Numero de matrícula': 4, 'repetidor': False, 'fecha de matriculación en el centro': 12}\n",
    "existe = False\n",
    "for alumno in lst:\n",
    "    if alumno['nombre'] == luis['nombre'] and alumno['apellidos'] == luis['apellidos']:\n",
    "        existe = True\n",
    "        break\n",
    "\n",
    "if not existe:\n",
    "     lst.append(luis)\n",
    "for alumno in lst:\n",
    "    print(alumno)\n",
    "\n",
    "#e) Si se des matricula uno lo quitamos.\n",
    "num_mat=2\n",
    "for alumno in lst:\n",
    "    if alumno['Numero de matrícula']==num_mat:\n",
    "        lst.remove(alumno)\n",
    "        print('Se ha eliminado el alumno')\n",
    "        break\n",
    "else:\n",
    "     print('No se encontró el alumno')"
   ]
  }
 ],
 "metadata": {
  "kernelspec": {
   "display_name": "cursoIA",
   "language": "python",
   "name": "python3"
  },
  "language_info": {
   "codemirror_mode": {
    "name": "ipython",
    "version": 3
   },
   "file_extension": ".py",
   "mimetype": "text/x-python",
   "name": "python",
   "nbconvert_exporter": "python",
   "pygments_lexer": "ipython3",
   "version": "3.9.16"
  },
  "orig_nbformat": 4
 },
 "nbformat": 4,
 "nbformat_minor": 2
}
