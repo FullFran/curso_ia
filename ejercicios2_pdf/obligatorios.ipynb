{
 "cells": [
  {
   "attachments": {},
   "cell_type": "markdown",
   "metadata": {},
   "source": [
    "5. Crea un programa que limpie los espacios innecesarios en la siguiente string:\n",
    "   “ Hola Mundo, necesito una limpieza . ”\n"
   ]
  },
  {
   "cell_type": "code",
   "execution_count": 2,
   "metadata": {},
   "outputs": [
    {
     "name": "stdout",
     "output_type": "stream",
     "text": [
      "Hola Mundo, necesito una limpieza.\n"
     ]
    }
   ],
   "source": [
    "def limpiar_cadena(cadena):\n",
    "    # lo separamos por espacios y lo unimos quitando el espacio a la derecha.\n",
    "    cadena_limpia = ' '.join(cadena.split()).rstrip()\n",
    "    # quitamos los espacios antes de punto.\n",
    "    cadena_limpia = cadena_limpia.replace(' .', '.')\n",
    "    return (cadena_limpia)\n",
    "\n",
    "\n",
    "cadena = ' Hola Mundo, necesito una limpieza . '\n",
    "print(limpiar_cadena(cadena))\n"
   ]
  },
  {
   "attachments": {},
   "cell_type": "markdown",
   "metadata": {},
   "source": [
    "Crea un programa que genere una lista de 100 números aleatorios y los ordene de\n",
    "menor a mayor. Usando el módulo random\n",
    "import random\n"
   ]
  },
  {
   "cell_type": "code",
   "execution_count": 209,
   "metadata": {},
   "outputs": [
    {
     "name": "stdout",
     "output_type": "stream",
     "text": [
      "[7, 13, 16, 20, 23, 41, 47, 50, 57, 74, 88, 96, 96, 119, 133, 148, 161, 162, 167, 168, 177, 178, 184, 186, 223, 234, 252, 263, 271, 276, 293, 306, 309, 311, 315, 347, 379, 398, 405, 432, 438, 450, 467, 469, 488, 488, 488, 489, 490, 499, 505, 507, 519, 527, 529, 536, 539, 549, 555, 587, 595, 609, 638, 638, 656, 659, 664, 668, 707, 719, 730, 752, 752, 758, 759, 812, 816, 827, 828, 840, 841, 868, 868, 873, 875, 881, 883, 886, 891, 904, 932, 953, 954, 954, 960, 982, 983, 983, 998, 1000]\n",
      "[7, 13, 16, 20, 'mayor', 'mayor', 'mayor', 'mayor', 'mayor', 'mayor', 'mayor', 'mayor', 'mayor', 'mayor', 'mayor', 'mayor', 'mayor', 'mayor', 'mayor', 'mayor', 'mayor', 'mayor', 'mayor', 'mayor', 'mayor', 'mayor', 'mayor', 'mayor', 'mayor', 'mayor', 'mayor', 'mayor', 'mayor', 'mayor', 'mayor', 'mayor', 'mayor', 'mayor', 'mayor', 'mayor', 'mayor', 'mayor', 'mayor', 'mayor', 'mayor', 'mayor', 'mayor', 'mayor', 'mayor', 'mayor', 'mayor', 'mayor', 'mayor', 'mayor', 'mayor', 'mayor', 'mayor', 'mayor', 'mayor', 'mayor', 'mayor', 'mayor', 'mayor', 'mayor', 'mayor', 'mayor', 'mayor', 'mayor', 'mayor', 'mayor', 'mayor', 'mayor', 'mayor', 'mayor', 'mayor', 'mayor', 'mayor', 'mayor', 'mayor', 'mayor', 'mayor', 'mayor', 'mayor', 'mayor', 'mayor', 'mayor', 'mayor', 'mayor', 'mayor', 'mayor', 'mayor', 'mayor', 'mayor', 'mayor', 'mayor', 'mayor', 'mayor', 'mayor', 'mayor', 'mayor']\n",
      "['menor', 'menor', 'menor', 'menor', 'mayor', 'mayor', 'mayor', 'mayor', 'mayor', 'mayor', 'mayor', 'mayor', 'mayor', 'mayor', 'mayor', 'mayor', 'mayor', 'mayor', 'mayor', 'mayor', 'mayor', 'mayor', 'mayor', 'mayor', 'mayor', 'mayor', 'mayor', 'mayor', 'mayor', 'mayor', 'mayor', 'mayor', 'mayor', 'mayor', 'mayor', 'mayor', 'mayor', 'mayor', 'mayor', 'mayor', 'mayor', 'mayor', 'mayor', 'mayor', 'mayor', 'mayor', 'mayor', 'mayor', 'mayor', 'mayor', 'mayor', 'mayor', 'mayor', 'mayor', 'mayor', 'mayor', 'mayor', 'mayor', 'mayor', 'mayor', 'mayor', 'mayor', 'mayor', 'mayor', 'mayor', 'mayor', 'mayor', 'mayor', 'mayor', 'mayor', 'mayor', 'mayor', 'mayor', 'mayor', 'mayor', 'mayor', 'mayor', 'mayor', 'mayor', 'mayor', 'mayor', 'mayor', 'mayor', 'mayor', 'mayor', 'mayor', 'mayor', 'mayor', 'mayor', 'mayor', 'mayor', 'mayor', 'mayor', 'mayor', 'mayor', 'mayor', 'mayor', 'mayor', 'mayor', 'mayor']\n"
     ]
    }
   ],
   "source": [
    "import random\n",
    "\n",
    "# Generar una lista de 100 números aleatorios, ranint genera un entero aleatorio.\n",
    "numeros = [random.randint(1, 1000) for i in range(100)]\n",
    "\n",
    "# Ordenar la lista de números (usamos el método sort)\n",
    "numeros.sort()\n",
    "\n",
    "print(numeros)\n",
    "\n",
    "'''\n",
    "7) Dada una lista de números enteros (int_lst), escriba los siguientes bucles en una\n",
    "sola línea:\n",
    "for i, elem in enumerate(int_lst):\n",
    "    if elem > 20:\n",
    "        int_lst[i] = ‘mayor’\n",
    "for i, elem in enumerate(int_lst):\n",
    "    if elem > 20:\n",
    "        int_lst[i] = ‘mayor’\n",
    "    else:\n",
    "    int_lst[i] = ‘menor’\n",
    "'''\n",
    "\n",
    "int_lst = numeros\n",
    "int_lst1 = ['mayor' if elem > 20 else elem for i, elem in enumerate(int_lst)]\n",
    "int_lst2 = ['mayor' if elem > 20 else 'menor' for i,\n",
    "            elem in enumerate(int_lst)]\n",
    "print(f'{int_lst1}')\n",
    "print(int_lst2)\n",
    "\n",
    "''' \n",
    "8) Corrija el siguiente código con la lista anterior:\n",
    "i = 0\n",
    "for i in range(int_lst):\n",
    "    if int_lst[i]:\n",
    "        if int_lst[i] > 20:\n",
    "            int_lst[i] = ‘mayor’\n",
    "    if int_lst[i] <= 20:\n",
    "        int_lst[i] = ‘menor’\n",
    "    else:\n",
    "        break\n",
    "'''\n",
    "i = 0\n",
    "# int_lst es una lista, su longitud es un entero.\n",
    "for i in range(len(int_lst)):\n",
    "    # int_list[i] no es un booleano así que no puede usarse como condición lógica\n",
    "    # además como estamos iterando la lista ya sabemos que existe el elemento así\n",
    "    # que no necesitamos esa linea de código\n",
    "    # y segiumos comparando cada elemento con 20 para hacer igual que antes.\n",
    "    if int_lst[i] > 20:\n",
    "        int_lst[i] = 'mayor'\n",
    "    else:\n",
    "        int_lst[i] = 'menor'\n"
   ]
  },
  {
   "attachments": {},
   "cell_type": "markdown",
   "metadata": {},
   "source": [
    "9. Una pequeña empresa tiene 6 clientes, los cuales vienen identificados por el\n",
    "   nombre, los apellidos, un código de identificación o ID aleatorio de 6 números y es\n",
    "   de tipo string,el total de dinero gastado, el número de pedidos realizados en total y\n",
    "   una lista de los pedidos. Por otro lado, cada elemento de una lista de pedidos\n",
    "   contiene un código identificatorio del pedido, la fecha en la que se realizó, el código\n",
    "   de cliente que realizó el pedido y el importe total que se pagó. Sabiendo esto:\n",
    "\n",
    "   a) Genere un tipo de dato que contenga todos elementos necesarios para un\n",
    "   pedido y otro para un cliente.\n",
    "\n",
    "   b) Cree una lista de clientes (sin rellenar el campo de pedidos) y otra de\n",
    "   pedidos (con al menos 3 clientes y 2 pedidos por cliente)\n",
    "\n",
    "   c) Cree un programa que rellene el campo de pedidos de cada cliente con los\n",
    "   elementos correspondientes de la lista de pedidos.\n",
    "\n",
    "   d) Cree un programa que pueda ordenar los clientes por los siguientes campos:\n",
    "\n",
    "   i) ID\n",
    "\n",
    "   ii) Nombre\n",
    "\n",
    "   iii) Apellidos\n",
    "\n",
    "   iv) Número de pedidos\n",
    "\n",
    "   v) Total de dinero gastado\n",
    "   \n"
   ]
  },
  {
   "cell_type": "code",
   "execution_count": 82,
   "metadata": {},
   "outputs": [],
   "source": [
    "import uuid\n",
    "import datetime"
   ]
  },
  {
   "cell_type": "code",
   "execution_count": 108,
   "metadata": {},
   "outputs": [
    {
     "data": {
      "text/plain": [
       "'2972173'"
      ]
     },
     "execution_count": 108,
     "metadata": {},
     "output_type": "execute_result"
    }
   ],
   "source": [
    "str(uuid.uuid4().int)[:7]"
   ]
  },
  {
   "cell_type": "code",
   "execution_count": 109,
   "metadata": {},
   "outputs": [],
   "source": [
    "# a)Genere un tipo de dato que contenga todos elementos necesarios para un\n",
    "# pedido y otro para un cliente.\n",
    "\n",
    "# Creamos un diccionario con lo necesario para un pedido.\n",
    "pedido = {\n",
    "    'codigo_pedido': str(uuid.uuid4().int)[:7],\n",
    "    'fecha': '2023-05-18',\n",
    "    'codigo_cliente': str(uuid.uuid4().int)[:7],\n",
    "    'importe_total': 100.0\n",
    "}\n",
    "# creamos otro diccionario con los datos de un cliente\n",
    "cliente = {\n",
    "    'nombre': 'Pedro',\n",
    "    'apellidos': 'Cuenca',\n",
    "    'ID': str(uuid.uuid4().int)[:7],\n",
    "    'dinero_gastado': 500.0,\n",
    "    'num_pedidos': 3,\n",
    "    'pedidos': [\n",
    "        {\n",
    "            'codigo_pedido': str(uuid.uuid4().int)[:7],\n",
    "            'fecha': '2023-05-18',\n",
    "            'codigo_cliente': str(uuid.uuid4().int)[:7],\n",
    "            'importe_total': 100.0\n",
    "        },\n",
    "        {\n",
    "            'codigo_pedido': str(uuid.uuid4().int)[:7],\n",
    "            'fecha': '2023-05-17',\n",
    "            'codigo_cliente': str(uuid.uuid4().int)[:7],\n",
    "            'importe_total': 150.0\n",
    "        },\n",
    "        {\n",
    "            'codigo_pedido': str(uuid.uuid4().int)[:7],\n",
    "            'fecha': '2023-05-16',\n",
    "            'codigo_cliente': str(uuid.uuid4().int)[:7],\n",
    "            'importe_total': 250.0\n",
    "        }\n",
    "    ]\n",
    "}\n"
   ]
  },
  {
   "cell_type": "code",
   "execution_count": 110,
   "metadata": {},
   "outputs": [
    {
     "data": {
      "text/plain": [
       "'Pedro'"
      ]
     },
     "execution_count": 110,
     "metadata": {},
     "output_type": "execute_result"
    }
   ],
   "source": [
    "cliente['nombre']"
   ]
  },
  {
   "cell_type": "code",
   "execution_count": 111,
   "metadata": {},
   "outputs": [],
   "source": [
    "# Creamos una clase cliente aunque no se si la vamos a utilizar.\n",
    "class Cliente:\n",
    "    def __init__(self, cliente):\n",
    "        self.datos = {}\n",
    "        self.datos['nombre'] = cliente['nombre']\n",
    "        self.datos['apellidos'] = cliente['apellidos']\n",
    "        self.datos['ID'] = cliente['ID']\n",
    "        self.datos['pedidos'] = cliente['pedidos']\n",
    "        \n"
   ]
  },
  {
   "cell_type": "code",
   "execution_count": 138,
   "metadata": {},
   "outputs": [
    {
     "data": {
      "text/plain": [
       "{'nombre': 'Pedro',\n",
       " 'apellidos': 'Cuenca',\n",
       " 'ID': '3796006',\n",
       " 'pedidos': [{'codigo_pedido': '1513577',\n",
       "   'fecha': '2023-05-18',\n",
       "   'codigo_cliente': '2993148',\n",
       "   'importe_total': 100.0},\n",
       "  {'codigo_pedido': '1033413',\n",
       "   'fecha': '2023-05-17',\n",
       "   'codigo_cliente': '1766072',\n",
       "   'importe_total': 150.0},\n",
       "  {'codigo_pedido': '2995766',\n",
       "   'fecha': '2023-05-16',\n",
       "   'codigo_cliente': '3348328',\n",
       "   'importe_total': 250.0}]}"
      ]
     },
     "execution_count": 138,
     "metadata": {},
     "output_type": "execute_result"
    }
   ],
   "source": [
    "Pedro = Cliente(cliente)\n",
    "Pedro.datos"
   ]
  },
  {
   "cell_type": "code",
   "execution_count": 277,
   "metadata": {},
   "outputs": [
    {
     "name": "stdout",
     "output_type": "stream",
     "text": [
      "Pedro\n",
      "100.0\n",
      "250.0\n",
      "250.0\n",
      "250.0\n",
      "250.0\n",
      "250.0\n",
      "250.0\n",
      "Ana\n",
      "0.0\n",
      "0.0\n",
      "200.0\n",
      "250.0\n",
      "350.0\n",
      "350.0\n",
      "350.0\n",
      "Alicia\n",
      "0.0\n",
      "0.0\n",
      "0.0\n",
      "0.0\n",
      "0.0\n",
      "200.0\n",
      "500.0\n"
     ]
    }
   ],
   "source": [
    "# b)Cree una lista de clientes (sin rellenar el campo de pedidos) y otra de\n",
    "# pedidos (con al menos 3 clientes y 2 pedidos por cliente)\n",
    "clientes = [\n",
    "    {\n",
    "        'nombre': 'Pedro',\n",
    "        'apellidos': 'Cuenca',\n",
    "        'ID': str(uuid.uuid4().int)[:7],\n",
    "        'dinero_gastado': 0.0,\n",
    "        'num_pedidos': 0,\n",
    "        'pedidos': []\n",
    "    },\n",
    "    {\n",
    "        'nombre': 'Ana',\n",
    "        'apellidos': 'Martínez',\n",
    "        'ID': str(uuid.uuid4().int)[:7],\n",
    "        'dinero_gastado': 0.0,\n",
    "        'num_pedidos': 0,\n",
    "        'pedidos': []\n",
    "    },\n",
    "    {\n",
    "        'nombre': 'Alicia',\n",
    "        'apellidos': 'Romero',\n",
    "        'ID': str(uuid.uuid4().int)[:7],\n",
    "        'dinero_gastado': 0.0,\n",
    "        'num_pedidos': 0,\n",
    "        'pedidos': []\n",
    "    },\n",
    "    # Agrega más clientes si es necesario\n",
    "]\n",
    "\n",
    "# Creamos otra lista de  diccionarios con los pedidos\n",
    "\n",
    "pedidos = [\n",
    "    {\n",
    "        'codigo_pedido': str(uuid.uuid4().int)[:7],\n",
    "        'fecha': '2023-05-18',\n",
    "        'codigo_cliente': clientes[0]['ID'],\n",
    "        'importe_total': 100.0\n",
    "    },\n",
    "    {\n",
    "        'codigo_pedido': str(uuid.uuid4().int)[:7],\n",
    "        'fecha': '2023-05-17',\n",
    "        'codigo_cliente': clientes[0]['ID'],\n",
    "        'importe_total': 150.0\n",
    "    },\n",
    "    {\n",
    "        'codigo_pedido': str(uuid.uuid4().int)[:7],\n",
    "        'fecha': '2023-05-16',\n",
    "        'codigo_cliente': clientes[1]['ID'],\n",
    "        'importe_total': 200.0\n",
    "    },\n",
    "    {\n",
    "        'codigo_pedido': str(uuid.uuid4().int)[:7],\n",
    "        'fecha': '2023-05-16',\n",
    "        'codigo_cliente': clientes[1]['ID'],\n",
    "        'importe_total': 50.0\n",
    "    },\n",
    "    {\n",
    "        'codigo_pedido': str(uuid.uuid4().int)[:7],\n",
    "        'fecha': '2023-05-16',\n",
    "        'codigo_cliente': clientes[1]['ID'],\n",
    "        'importe_total': 100.0\n",
    "    },\n",
    "    {\n",
    "        'codigo_pedido': 'PED003',\n",
    "        'fecha': '2023-05-16',\n",
    "        'codigo_cliente': clientes[2]['ID'],\n",
    "        'importe_total': 200.0\n",
    "    },\n",
    "    {\n",
    "        'codigo_pedido': 'PED003',\n",
    "        'fecha': '2023-05-16',\n",
    "        'codigo_cliente': clientes[2]['ID'],\n",
    "        'importe_total': 300.0\n",
    "    },\n",
    "]\n",
    "\n",
    "# c) Cree un programa que rellene el campo de pedidos de cada cliente con los\n",
    "# elementos correspondientes de la lista de pedidos.\n",
    "for cliente in clientes:\n",
    "    print(cliente['nombre'])\n",
    "    for pedido in pedidos:\n",
    "        if pedido['codigo_cliente'] == cliente['ID']:\n",
    "            cliente['pedidos'].append(pedido)\n",
    "            cliente['dinero_gastado'] += pedido['importe_total']\n",
    "        print(cliente['dinero_gastado'])"
   ]
  },
  {
   "cell_type": "code",
   "execution_count": 278,
   "metadata": {},
   "outputs": [
    {
     "name": "stdout",
     "output_type": "stream",
     "text": [
      "Pedro  ha gastado\n",
      " 250.0\n",
      "Ana  ha gastado\n",
      " 350.0\n",
      "Alicia  ha gastado\n",
      " 500.0\n"
     ]
    }
   ],
   "source": [
    "for cliente in clientes:\n",
    "    print(cliente['nombre'],' ha gastado\\n',cliente['dinero_gastado'])\n",
    "    "
   ]
  },
  {
   "attachments": {},
   "cell_type": "markdown",
   "metadata": {},
   "source": [
    "d) Cree un programa que pueda ordenar los clientes por los siguientes campos:\n",
    "\n",
    "   i) ID\n",
    "\n",
    "   ii) Nombre\n",
    "\n",
    "   iii) Apellidos\n",
    "\n",
    "   iv) Número de pedidos\n",
    "\n",
    "   v) Total de dinero gastado"
   ]
  },
  {
   "cell_type": "code",
   "execution_count": 424,
   "metadata": {},
   "outputs": [],
   "source": [
    "def ordenar(clientes, clave='nombre'):\n",
    "    '''Claves válidas: 'Numero de pedidos' 'Número de pedidos' 'pedidos' \\n\n",
    "                        'nombre' (clave por defecto) \\n\n",
    "                        'apellidos' \\n\n",
    "                         'dinero_gastado' '''\n",
    "    if clave == 'Numero de pedidos' or clave == 'Número de pedidos' or clave == 'pedidos':\n",
    "        return sorted(clientes, key = lambda i: len(i['pedidos']), reverse=True)\n",
    "    try:\n",
    "        return sorted(clientes, key = lambda i: i[clave])\n",
    "    except:\n",
    "        print('ERROR: Posiblemente elegiste una clave que no existe')"
   ]
  },
  {
   "cell_type": "code",
   "execution_count": 428,
   "metadata": {},
   "outputs": [
    {
     "name": "stdout",
     "output_type": "stream",
     "text": [
      "Pedro  ha gastado\n",
      " 250.0 en  2  pedidos.\n",
      "Ana  ha gastado\n",
      " 350.0 en  3  pedidos.\n",
      "Alicia  ha gastado\n",
      " 500.0 en  2  pedidos.\n"
     ]
    }
   ],
   "source": [
    "sclientes = ordenar(clientes, clave = 'apellidos')\n",
    "\n",
    "for cliente in sclientes:\n",
    "    print(cliente['nombre'],' ha gastado\\n',cliente['dinero_gastado'], 'en ', len(cliente['pedidos']),' pedidos.')"
   ]
  },
  {
   "cell_type": "code",
   "execution_count": null,
   "metadata": {},
   "outputs": [],
   "source": []
  }
 ],
 "metadata": {
  "kernelspec": {
   "display_name": "cursoIA",
   "language": "python",
   "name": "python3"
  },
  "language_info": {
   "codemirror_mode": {
    "name": "ipython",
    "version": 3
   },
   "file_extension": ".py",
   "mimetype": "text/x-python",
   "name": "python",
   "nbconvert_exporter": "python",
   "pygments_lexer": "ipython3",
   "version": "3.9.16"
  },
  "orig_nbformat": 4
 },
 "nbformat": 4,
 "nbformat_minor": 2
}
