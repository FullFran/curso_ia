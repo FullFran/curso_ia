{
 "cells": [
  {
   "attachments": {},
   "cell_type": "markdown",
   "metadata": {},
   "source": [
    "# Redes neuronales convolucionales:"
   ]
  },
  {
   "attachments": {},
   "cell_type": "markdown",
   "metadata": {},
   "source": [
    "Una red convolucional es una herramienta util para tratamiento de imagenes con inteligencia artificial:\n",
    "\n",
    "se basa en antes de entrar a una red normal entrar a unos procesos: convoluciones y los poolings,\n",
    "\n",
    "Tensor de una imagen (32,32 por ej) se convierte en más imágenes más simples, se simplifica, se le vuelve a hacer otra combolución,\n",
    "al pasar los filtros se hace un tensor más grande, y se repite hasta es facil hacer un Flattern y meterlo en una red neuronal normal.\n",
    "\n",
    "## Pasamos a cifar10"
   ]
  },
  {
   "cell_type": "code",
   "execution_count": null,
   "metadata": {},
   "outputs": [],
   "source": []
  },
  {
   "cell_type": "code",
   "execution_count": null,
   "metadata": {},
   "outputs": [],
   "source": []
  },
  {
   "attachments": {},
   "cell_type": "markdown",
   "metadata": {},
   "source": [
    "# Redes neuronales para saber donde están cosas:\n",
    "\n",
    "## YOLO:"
   ]
  },
  {
   "attachments": {},
   "cell_type": "markdown",
   "metadata": {},
   "source": [
    "### Crear dataset con labelimg:"
   ]
  },
  {
   "attachments": {},
   "cell_type": "markdown",
   "metadata": {},
   "source": [
    "vamos a utilizar la inteligencia artificial yolo, en label img está yolo y pascal.\n",
    "\n",
    "se etiquetan a mano las imágenes del data set."
   ]
  },
  {
   "cell_type": "code",
   "execution_count": null,
   "metadata": {},
   "outputs": [],
   "source": []
  },
  {
   "attachments": {},
   "cell_type": "markdown",
   "metadata": {},
   "source": [
    "# EXAMEN FINAL:"
   ]
  },
  {
   "attachments": {},
   "cell_type": "markdown",
   "metadata": {},
   "source": [
    "Lo pasa:\n",
    "\n",
    "consiste en: 2 ejercicios\n",
    "\n",
    "primero y mas importante.\n",
    "\n",
    "Modelo que clasifica 2 clases de puntos.\n",
    "\n",
    "con 2 librerías diferentes.\n",
    "\n",
    "2 anillos de diferente tamaño. (make circles)\n",
    "\n",
    "comparar los resultados\n",
    "\n",
    "## 2, opcional:\n",
    "\n",
    "utilizando data set de imagenes, red convolucional para sacar genero y dedad de la persona de la foto.\n",
    "\n",
    "si los datos están ordenados en hombres y mujeres, hacer shuffle.\n",
    "\n",
    "\n",
    "# Para el miercoles!!!"
   ]
  }
 ],
 "metadata": {
  "language_info": {
   "name": "python"
  },
  "orig_nbformat": 4
 },
 "nbformat": 4,
 "nbformat_minor": 2
}
