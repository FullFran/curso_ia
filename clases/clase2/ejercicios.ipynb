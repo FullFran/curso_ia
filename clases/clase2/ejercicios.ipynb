{
 "cells": [
  {
   "attachments": {},
   "cell_type": "markdown",
   "metadata": {},
   "source": [
    "# ejercicios\n"
   ]
  },
  {
   "attachments": {},
   "cell_type": "markdown",
   "metadata": {},
   "source": [
    "3. Hacer una lista de diccionarios que guarden información sobre alumnos, con su\n",
    "   nombre, apellidos y número de matrícula. A partir de eso:\n",
    "   a) ordenar la lista según sus campos.\n",
    "   b) añadir a cada elemento de la lista un campo booleano de repetidor, que\n",
    "   indica si han repetido curso. Si ninguno lo ha hecho, que salga por pantalla\n",
    "   un mensaje indicándolo. Si alguno sí, que salgan por pantalla los repetidores\n",
    "   y si todos son repetidores, que salga por pantalla un mensaje de “curso de\n",
    "   repetición”\n",
    "   c) Añadir un campo a cada alumno con la fecha de matriculación en el centro\n",
    "   d) Crear un nuevo alumno, comprobar que no existe por su nombre y apellidos\n",
    "   y añadirlo a la lista en tal caso\n",
    "   e) Sacar un alumno de la lista si este se desmatricula buscándolo por su\n",
    "   número de matrícula\n",
    "4.\n",
    "5. Crear una clase vector que tenga atributos (x, y, z) y otra clase triángulo que\n",
    "   contenga 3 elementos de tipo vector (p1, p2, p3).\n",
    "   a) En el constructor de triángulo, debemos generar un atributo más que sea la\n",
    "   normal del plano del triángulo y normalizarla (que su módulo sea 1)\n",
    "   b) Generar un método en cada clase que visualice sus atributos\n",
    "   c) crear un método en la clase vector que normalice el vector\n",
    "   d) crear un método que invierta un vector ([1, 2, 3] -> [-1, -2, -3])\n"
   ]
  },
  {
   "cell_type": "code",
   "execution_count": 53,
   "metadata": {},
   "outputs": [
    {
     "name": "stdout",
     "output_type": "stream",
     "text": [
      "No hay repetidores\n"
     ]
    }
   ],
   "source": [
    "import random\n",
    "# a)\n",
    "# Creamos la lista de diccionarios con los alumnos\n",
    "lst = [\n",
    "    {'nombre': 'Pepe', 'apellidos': 'Martín Romero', 'Numero de matrícula': 1},\n",
    "    {'nombre': 'Manolo', 'apellidos': 'Julián Vázquez', 'Numero de matrícula': 2},\n",
    "    {'nombre': 'Ana', 'apellidos': 'Fernandez Narváez', 'Numero de matrícula': 3}\n",
    "]\n",
    "# b)\n",
    "for alumno in lst:\n",
    "    rep = [True, False]\n",
    "    alumno['repetidor'] = random.choice(rep)\n",
    "\n",
    "repetidores = [alumno for alumno in lst if alumno['repetidor']]\n",
    "\n",
    "if len(repetidores) == 0:\n",
    "    print('No hay repetidores')\n",
    "for alumno in repetidores:\n",
    "    print(alumno)\n",
    "\n",
    "if len(lst) == len(repetidores):\n",
    "    print('Este es un curso de repetición')"
   ]
  },
  {
   "attachments": {},
   "cell_type": "markdown",
   "metadata": {},
   "source": [
    "d) Crear un nuevo alumno, comprobar que no existe por su nombre y apellidos\n",
    "y añadirlo a la lista en tal caso\n",
    "\n",
    "e) Sacar un alumno de la lista si este se desmatricula buscándolo por su\n",
    "número de matrícula\n"
   ]
  },
  {
   "cell_type": "code",
   "execution_count": 64,
   "metadata": {},
   "outputs": [],
   "source": [
    "# david añadió una función para añadir campos.\n",
    "\n",
    "def add_field(std_lst, field_name, field_lst):\n",
    "    for alumno, campo in zip(std_lst, field_lst):\n",
    "        alumno[str(field_name)] = campo\n",
    "        return std_lst"
   ]
  },
  {
   "cell_type": "code",
   "execution_count": 54,
   "metadata": {},
   "outputs": [
    {
     "name": "stdout",
     "output_type": "stream",
     "text": [
      "{'nombre': 'Pepe', 'apellidos': 'Martín Romero', 'Numero de matrícula': 1, 'repetidor': False, 'fecha de matriculación en el centro': datetime.datetime(2019, 9, 17, 0, 0)}\n",
      "{'nombre': 'Manolo', 'apellidos': 'Julián Vázquez', 'Numero de matrícula': 2, 'repetidor': False, 'fecha de matriculación en el centro': datetime.datetime(2018, 9, 1, 0, 0)}\n",
      "{'nombre': 'Ana', 'apellidos': 'Fernandez Narváez', 'Numero de matrícula': 3, 'repetidor': False, 'fecha de matriculación en el centro': datetime.datetime(2019, 9, 17, 0, 0)}\n",
      "{'nombre': 'Luis', 'apellidos': 'Martín Romero', 'Numero de matrícula': 4, 'repetidor': False, 'fecha de matriculación en el centro': 12}\n"
     ]
    }
   ],
   "source": [
    "# c)\n",
    "import datetime\n",
    "\n",
    "fecha = [datetime.datetime(2020, 9, 4), datetime.datetime(2019, 9, 17),\n",
    "         datetime.datetime(2021, 9, 9), datetime.datetime(2018, 9, 1)]\n",
    "\n",
    "for alumno in lst:\n",
    "    alumno['fecha de matriculación en el centro'] = random.choice(fecha)\n",
    "\n",
    "\n",
    "# d)\n",
    "luis = {'nombre': 'Luis', 'apellidos': 'Martín Romero', 'Numero de matrícula': 4,\n",
    "        'repetidor': False, 'fecha de matriculación en el centro': 12}\n",
    "existe = False\n",
    "for alumno in lst:\n",
    "    if alumno['nombre'] == luis['nombre'] and alumno['apellidos'] == luis['apellidos']:\n",
    "        existe = True\n",
    "        break\n",
    "\n",
    "if not existe:\n",
    "    lst.append(luis)\n",
    "for alumno in lst:\n",
    "    print(alumno)\n",
    "\n",
    "# e) Si se des matricula uno lo quitamos.\n",
    "num_mat = 2\n",
    "borrado = {}\n",
    "for alumno in lst:\n",
    "    if alumno['Numero de matrícula'] != num_mat:\n",
    "        borrado = alumno\n",
    "        break\n",
    "else:\n",
    "    print('No se encontró el alumno')\n",
    "\n",
    "lst = borrado"
   ]
  },
  {
   "cell_type": "code",
   "execution_count": 62,
   "metadata": {},
   "outputs": [
    {
     "name": "stdout",
     "output_type": "stream",
     "text": [
      "[{'nombre': 'Pepe', 'apellidos': 'Martín Romero', 'Numero de matrícula': 1}, {'nombre': 'Manolo', 'apellidos': 'Julián Vázquez', 'Numero de matrícula': 2}, {'nombre': 'Ana', 'apellidos': 'Fernandez Narváez', 'Numero de matrícula': 3}, {'nombre': 'Luis', 'apellidos': 'Martín Romero', 'Numero de matrícula': 4, 'repetidor': False, 'fecha de matriculación en el centro': 12}]\n",
      "[{'nombre': 'Manolo', 'apellidos': 'Julián Vázquez', 'Numero de matrícula': 2}, {'nombre': 'Ana', 'apellidos': 'Fernandez Narváez', 'Numero de matrícula': 3}, {'nombre': 'Luis', 'apellidos': 'Martín Romero', 'Numero de matrícula': 4, 'repetidor': False, 'fecha de matriculación en el centro': 12}]\n"
     ]
    }
   ],
   "source": [
    "def add_student(std_lst, alumno):\n",
    "    if alumno not in std_lst:\n",
    "        std_lst.append(alumno)\n",
    "    return (std_lst)\n",
    "\n",
    "\n",
    "def remove_student(std_lst, alumno):\n",
    "    if alumno in std_lst:\n",
    "        std_lst.remove(alumno)\n",
    "    return (std_lst)\n",
    "\n",
    "\n",
    "lst = [\n",
    "    {'nombre': 'Pepe', 'apellidos': 'Martín Romero', 'Numero de matrícula': 1},\n",
    "    {'nombre': 'Manolo', 'apellidos': 'Julián Vázquez', 'Numero de matrícula': 2},\n",
    "    {'nombre': 'Ana', 'apellidos': 'Fernandez Narváez', 'Numero de matrícula': 3}\n",
    "]\n",
    "\n",
    "luis = {'nombre': 'Luis', 'apellidos': 'Martín Romero', 'Numero de matrícula': 4,\n",
    "        'repetidor': False, 'fecha de matriculación en el centro': 12}\n",
    "\n",
    "print(add_student(lst, luis))\n",
    "\n",
    "print(remove_student(lst, lst[0]))"
   ]
  },
  {
   "attachments": {},
   "cell_type": "markdown",
   "metadata": {},
   "source": []
  }
 ],
 "metadata": {
  "kernelspec": {
   "display_name": "cursoIA",
   "language": "python",
   "name": "python3"
  },
  "language_info": {
   "codemirror_mode": {
    "name": "ipython",
    "version": 3
   },
   "file_extension": ".py",
   "mimetype": "text/x-python",
   "name": "python",
   "nbconvert_exporter": "python",
   "pygments_lexer": "ipython3",
   "version": "3.9.16"
  },
  "orig_nbformat": 4
 },
 "nbformat": 4,
 "nbformat_minor": 2
}
