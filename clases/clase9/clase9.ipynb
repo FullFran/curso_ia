{
 "cells": [
  {
   "attachments": {},
   "cell_type": "markdown",
   "metadata": {},
   "source": [
    "# Redes neuronales:\n",
    "# Matemáticas aplicadas a la Inteligencia Artificial"
   ]
  },
  {
   "attachments": {},
   "cell_type": "markdown",
   "metadata": {},
   "source": [
    "## Algebra lineal:\n",
    "\n",
    "vemos como representar un vector, como calcular su modulo, suma y resta de vectores... También gráficamente.\n",
    "\n",
    "vemos el producto escalar y vectorial\n",
    "\n",
    "vectores unitarios\n",
    "\n",
    "Ahora vamos a ver matrices: \n",
    "\n",
    "vemos nomenclatura, vemos trasponer...\n",
    "\n",
    "Vemos tensores:\n",
    "\n"
   ]
  },
  {
   "cell_type": "code",
   "execution_count": 3,
   "metadata": {},
   "outputs": [],
   "source": [
    "import numpy as np"
   ]
  },
  {
   "cell_type": "code",
   "execution_count": 37,
   "metadata": {},
   "outputs": [
    {
     "name": "stdout",
     "output_type": "stream",
     "text": [
      "[[ 1 -1  1]\n",
      " [-1 -5  5]]\n",
      "[[ 1  0 -1  0  0  0  0  0  0]\n",
      " [-1  2 -3  0  0  0  0  0  0]\n",
      " [ 0  0  0 -1  0  1  1  0 -1]\n",
      " [ 0  0  0  1 -2  3 -1  2 -3]\n",
      " [ 0  0  0  1  0 -1 -1  0  1]\n",
      " [ 0  0  0 -1  2 -3  1 -2  3]]\n",
      "[[ 1 -1  1]\n",
      " [-1 -5  5]]\n"
     ]
    }
   ],
   "source": [
    "A = np.array([[1,0,0],[0,-1,1],[0,1,-1]])\n",
    "B = np.array([[1,0,-1],[-1,2,-3]])\n",
    "\n",
    "C = B @ A\n",
    "D = np.kron(A,B)\n",
    "print(C)\n",
    "print(D)\n",
    "\n",
    "g = np.matmul(B,A)\n",
    "print(g)"
   ]
  },
  {
   "cell_type": "code",
   "execution_count": 32,
   "metadata": {},
   "outputs": [
    {
     "name": "stdout",
     "output_type": "stream",
     "text": [
      "(2, 3)\n",
      "(6, 9)\n",
      "(2, 6, 9)\n"
     ]
    }
   ],
   "source": [
    "print(C.shape)\n",
    "print(D.shape)\n",
    "tensor_gordo = np.array([D,D])\n",
    "\n",
    "print(tensor_gordo.shape)"
   ]
  },
  {
   "cell_type": "code",
   "execution_count": 36,
   "metadata": {},
   "outputs": [
    {
     "data": {
      "text/plain": [
       "1"
      ]
     },
     "execution_count": 36,
     "metadata": {},
     "output_type": "execute_result"
    }
   ],
   "source": [
    "v = np.array([1,0])\n",
    "u = np.array([1,1])\n",
    "np.dot(u,v)"
   ]
  },
  {
   "cell_type": "code",
   "execution_count": null,
   "metadata": {},
   "outputs": [],
   "source": [
    "t1 = np.array([A,B])"
   ]
  }
 ],
 "metadata": {
  "kernelspec": {
   "display_name": "cursoIA",
   "language": "python",
   "name": "python3"
  },
  "language_info": {
   "codemirror_mode": {
    "name": "ipython",
    "version": 3
   },
   "file_extension": ".py",
   "mimetype": "text/x-python",
   "name": "python",
   "nbconvert_exporter": "python",
   "pygments_lexer": "ipython3",
   "version": "3.9.16"
  },
  "orig_nbformat": 4
 },
 "nbformat": 4,
 "nbformat_minor": 2
}
