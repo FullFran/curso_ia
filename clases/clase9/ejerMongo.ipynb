{
 "cells": [
  {
   "cell_type": "code",
   "execution_count": 1,
   "metadata": {},
   "outputs": [],
   "source": [
    "import json\n",
    "from pymongo import MongoClient\n",
    "\n",
    "import uuid\n",
    "from pprint import pprint"
   ]
  },
  {
   "cell_type": "code",
   "execution_count": 2,
   "metadata": {},
   "outputs": [],
   "source": [
    "# generamos los datos localmente b\n",
    "\n",
    "clientes = [\n",
    "    {\n",
    "        'nombre': 'Pedro',\n",
    "        'apellidos': 'Cuenca',\n",
    "        'ID': str(uuid.uuid4().int)[:7],\n",
    "        'dinero_gastado': 0.0,\n",
    "        'num_pedidos': 0,\n",
    "        'pedidos': []\n",
    "    },\n",
    "    {\n",
    "        'nombre': 'Ana',\n",
    "        'apellidos': 'Martínez',\n",
    "        'ID': str(uuid.uuid4().int)[:7],\n",
    "        'dinero_gastado': 0.0,\n",
    "        'num_pedidos': 0,\n",
    "        'pedidos': []\n",
    "    },\n",
    "    {\n",
    "        'nombre': 'Alicia',\n",
    "        'apellidos': 'Romero',\n",
    "        'ID': str(uuid.uuid4().int)[:7],\n",
    "        'dinero_gastado': 0.0,\n",
    "        'num_pedidos': 0,\n",
    "        'pedidos': []\n",
    "    },\n",
    "    # Agrega más clientes si es necesario\n",
    "]\n",
    "\n",
    "# Creamos otra lista de  diccionarios con los pedidos\n",
    "\n",
    "pedidos = [\n",
    "    {\n",
    "        'codigo_pedido': str(uuid.uuid4().int)[:7],\n",
    "        'fecha': '2023-05-18',\n",
    "        'codigo_cliente': clientes[0]['ID'],\n",
    "        'importe_total': 100.0\n",
    "    },\n",
    "    {\n",
    "        'codigo_pedido': str(uuid.uuid4().int)[:7],\n",
    "        'fecha': '2023-05-17',\n",
    "        'codigo_cliente': clientes[0]['ID'],\n",
    "        'importe_total': 150.0\n",
    "    },\n",
    "    {\n",
    "        'codigo_pedido': str(uuid.uuid4().int)[:7],\n",
    "        'fecha': '2023-05-16',\n",
    "        'codigo_cliente': clientes[1]['ID'],\n",
    "        'importe_total': 200.0\n",
    "    },\n",
    "    {\n",
    "        'codigo_pedido': str(uuid.uuid4().int)[:7],\n",
    "        'fecha': '2023-05-16',\n",
    "        'codigo_cliente': clientes[1]['ID'],\n",
    "        'importe_total': 50.0\n",
    "    },\n",
    "    {\n",
    "        'codigo_pedido': str(uuid.uuid4().int)[:7],\n",
    "        'fecha': '2023-05-16',\n",
    "        'codigo_cliente': clientes[1]['ID'],\n",
    "        'importe_total': 100.0\n",
    "    },\n",
    "    {\n",
    "        'codigo_pedido': str(uuid.uuid4().int)[:7],\n",
    "        'fecha': '2023-05-16',\n",
    "        'codigo_cliente': clientes[2]['ID'],\n",
    "        'importe_total': 200.0\n",
    "    },\n",
    "    {\n",
    "        'codigo_pedido': str(uuid.uuid4().int)[:7],\n",
    "        'fecha': '2023-05-16',\n",
    "        'codigo_cliente': clientes[2]['ID'],\n",
    "        'importe_total': 300.0\n",
    "    },\n",
    "]"
   ]
  },
  {
   "cell_type": "code",
   "execution_count": 9,
   "metadata": {},
   "outputs": [
    {
     "name": "stdout",
     "output_type": "stream",
     "text": [
      "['Tienda', 'admin', 'config', 'local']\n"
     ]
    }
   ],
   "source": [
    "# Nos conectamos a la base de datos local que creamos.\n",
    "client = MongoClient('localhost')\n",
    "print(client.list_database_names())"
   ]
  },
  {
   "cell_type": "code",
   "execution_count": 22,
   "metadata": {},
   "outputs": [
    {
     "name": "stdout",
     "output_type": "stream",
     "text": [
      "\n"
     ]
    }
   ],
   "source": [
    "# Creamos nuestra nueva base de datos a)\n",
    "db = client['Tienda']\n",
    "# Creamos las colecciones que necesitamos a)\n",
    "clientes_col = db['clientes']\n",
    "pedidos_col = db['pedidos']\n",
    "# Insertamos los clientes uno a uno c)\n",
    "# He añadido que solo añada el cliente si no está en la base de datos\n",
    "for cliente in clientes:\n",
    "    # Comprobamos que el cliente no está en la colección\n",
    "    if clientes_col.find_one({'ID': cliente['ID']}) is None:\n",
    "        clientes_col.insert_one(cliente)\n",
    "# Insertamos los pedidos uno a uno para poder meter el condicional\n",
    "# y añadirlos solo si no están en la base de datos\n",
    "for pedido in pedidos:\n",
    "    # Comprobamos que el pedido no está en la colección\n",
    "    if pedidos_col.find_one({'codigo_pedido': pedido['codigo_pedido']}) is None:\n",
    "        pedidos_col.insert_one(pedido)\n",
    "print('')  # Esto es porque me da toc que haga eco"
   ]
  },
  {
   "cell_type": "code",
   "execution_count": 23,
   "metadata": {},
   "outputs": [
    {
     "name": "stdout",
     "output_type": "stream",
     "text": [
      "['Tienda', 'admin', 'config', 'local']\n",
      "['clientes', 'pedidos']\n",
      "3\n",
      "7\n"
     ]
    }
   ],
   "source": [
    "# Vamos a ver qué hay en nuestra base de datos.\n",
    "print(client.list_database_names())\n",
    "print(db.list_collection_names())\n",
    "print(clientes_col.count_documents({}))\n",
    "print(pedidos_col.count_documents({}))"
   ]
  },
  {
   "cell_type": "code",
   "execution_count": 25,
   "metadata": {},
   "outputs": [],
   "source": [
    "# Leemos todos los clientes y todos los pedidos d)\n",
    "clients = clientes_col.find()\n",
    "peds = pedidos_col.find()\n",
    "\n",
    "# Recorremos todos los clientes\n",
    "for cliente in clientes:\n",
    "    # Leemos los pedidos del cliente d)\n",
    "    id_cliente = cliente['ID']\n",
    "    pedidos_cliente = pedidos_col.find({'codigo_cliente': id_cliente})\n",
    "\n",
    "    # Actualizamos los pedidos del cliente\n",
    "    cliente_pedidos = []\n",
    "    dinero_gastado = 0.0\n",
    "    num_pedidos = 0\n",
    "    for pedido in pedidos_cliente:\n",
    "        cliente_pedidos.append(pedido)\n",
    "        dinero_gastado += pedido['importe_total']\n",
    "        num_pedidos += 1\n",
    "\n",
    "    # Actualizamos los datos del cliente en la base de datos: e)\n",
    "    clientes_col.update_one(\n",
    "        {'ID': id_cliente},\n",
    "        {'$set': {'pedidos': cliente_pedidos,\n",
    "                  'dinero_gastado': dinero_gastado,\n",
    "                  'num_pedidos': num_pedidos}}\n",
    "    )"
   ]
  },
  {
   "cell_type": "code",
   "execution_count": 26,
   "metadata": {},
   "outputs": [
    {
     "name": "stdout",
     "output_type": "stream",
     "text": [
      "{'ID': '2131062',\n",
      " '_id': ObjectId('64745282e2c7003a057a49f4'),\n",
      " 'apellidos': 'Cuenca',\n",
      " 'dinero_gastado': 250.0,\n",
      " 'nombre': 'Pedro',\n",
      " 'num_pedidos': 2,\n",
      " 'pedidos': [{'_id': ObjectId('64745282e2c7003a057a49f7'),\n",
      "              'codigo_cliente': '2131062',\n",
      "              'codigo_pedido': '6346583',\n",
      "              'fecha': '2023-05-18',\n",
      "              'importe_total': 100.0},\n",
      "             {'_id': ObjectId('64745282e2c7003a057a49f8'),\n",
      "              'codigo_cliente': '2131062',\n",
      "              'codigo_pedido': '1404795',\n",
      "              'fecha': '2023-05-17',\n",
      "              'importe_total': 150.0}]}\n",
      "{'ID': '9400281',\n",
      " '_id': ObjectId('64745282e2c7003a057a49f5'),\n",
      " 'apellidos': 'Martínez',\n",
      " 'dinero_gastado': 350.0,\n",
      " 'nombre': 'Ana',\n",
      " 'num_pedidos': 3,\n",
      " 'pedidos': [{'_id': ObjectId('64745282e2c7003a057a49f9'),\n",
      "              'codigo_cliente': '9400281',\n",
      "              'codigo_pedido': '1359881',\n",
      "              'fecha': '2023-05-16',\n",
      "              'importe_total': 200.0},\n",
      "             {'_id': ObjectId('64745282e2c7003a057a49fa'),\n",
      "              'codigo_cliente': '9400281',\n",
      "              'codigo_pedido': '1847240',\n",
      "              'fecha': '2023-05-16',\n",
      "              'importe_total': 50.0},\n",
      "             {'_id': ObjectId('64745282e2c7003a057a49fb'),\n",
      "              'codigo_cliente': '9400281',\n",
      "              'codigo_pedido': '2543181',\n",
      "              'fecha': '2023-05-16',\n",
      "              'importe_total': 100.0}]}\n",
      "{'ID': '2786351',\n",
      " '_id': ObjectId('64745282e2c7003a057a49f6'),\n",
      " 'apellidos': 'Romero',\n",
      " 'dinero_gastado': 500.0,\n",
      " 'nombre': 'Alicia',\n",
      " 'num_pedidos': 2,\n",
      " 'pedidos': [{'_id': ObjectId('64745282e2c7003a057a49fc'),\n",
      "              'codigo_cliente': '2786351',\n",
      "              'codigo_pedido': '2175565',\n",
      "              'fecha': '2023-05-16',\n",
      "              'importe_total': 200.0},\n",
      "             {'_id': ObjectId('64745282e2c7003a057a49fd'),\n",
      "              'codigo_cliente': '2786351',\n",
      "              'codigo_pedido': '1959001',\n",
      "              'fecha': '2023-05-16',\n",
      "              'importe_total': 300.0}]}\n"
     ]
    }
   ],
   "source": [
    "# Vamos a imprimirlo de forma legible usando pprint\n",
    "# Se pueden meter los condicionales de mongo.\n",
    "for cliente in clientes_col.find({}):\n",
    "    pprint(cliente)"
   ]
  },
  {
   "cell_type": "code",
   "execution_count": 19,
   "metadata": {},
   "outputs": [],
   "source": [
    "client.drop_database('Tienda')  # para eliminar la base de datos."
   ]
  },
  {
   "cell_type": "code",
   "execution_count": 91,
   "metadata": {},
   "outputs": [],
   "source": [
    "client.close()  # Cerramos la conexión con el cliente"
   ]
  },
  {
   "cell_type": "code",
   "execution_count": null,
   "metadata": {},
   "outputs": [],
   "source": []
  }
 ],
 "metadata": {
  "kernelspec": {
   "display_name": "cursoIA",
   "language": "python",
   "name": "python3"
  },
  "language_info": {
   "codemirror_mode": {
    "name": "ipython",
    "version": 3
   },
   "file_extension": ".py",
   "mimetype": "text/x-python",
   "name": "python",
   "nbconvert_exporter": "python",
   "pygments_lexer": "ipython3",
   "version": "3.9.16"
  },
  "orig_nbformat": 4
 },
 "nbformat": 4,
 "nbformat_minor": 2
}
