{
 "cells": [
  {
   "cell_type": "code",
   "execution_count": 83,
   "metadata": {},
   "outputs": [],
   "source": [
    "import json\n",
    "from pymongo import MongoClient\n",
    "import uuid\n",
    "from pprint import pprint"
   ]
  },
  {
   "cell_type": "code",
   "execution_count": 84,
   "metadata": {},
   "outputs": [],
   "source": [
    "# generamos los datos localmente b\n",
    "\n",
    "clientes = [\n",
    "    {\n",
    "        'nombre': 'Pedro',\n",
    "        'apellidos': 'Cuenca',\n",
    "        'ID': str(uuid.uuid4().int)[:7],\n",
    "        'dinero_gastado': 0.0,\n",
    "        'num_pedidos': 0,\n",
    "        'pedidos': []\n",
    "    },\n",
    "    {\n",
    "        'nombre': 'Ana',\n",
    "        'apellidos': 'Martínez',\n",
    "        'ID': str(uuid.uuid4().int)[:7],\n",
    "        'dinero_gastado': 0.0,\n",
    "        'num_pedidos': 0,\n",
    "        'pedidos': []\n",
    "    },\n",
    "    {\n",
    "        'nombre': 'Alicia',\n",
    "        'apellidos': 'Romero',\n",
    "        'ID': str(uuid.uuid4().int)[:7],\n",
    "        'dinero_gastado': 0.0,\n",
    "        'num_pedidos': 0,\n",
    "        'pedidos': []\n",
    "    },\n",
    "    # Agrega más clientes si es necesario\n",
    "]\n",
    "\n",
    "# Creamos otra lista de  diccionarios con los pedidos\n",
    "\n",
    "pedidos = [\n",
    "    {\n",
    "        'codigo_pedido': str(uuid.uuid4().int)[:7],\n",
    "        'fecha': '2023-05-18',\n",
    "        'codigo_cliente': clientes[0]['ID'],\n",
    "        'importe_total': 100.0\n",
    "    },\n",
    "    {\n",
    "        'codigo_pedido': str(uuid.uuid4().int)[:7],\n",
    "        'fecha': '2023-05-17',\n",
    "        'codigo_cliente': clientes[0]['ID'],\n",
    "        'importe_total': 150.0\n",
    "    },\n",
    "    {\n",
    "        'codigo_pedido': str(uuid.uuid4().int)[:7],\n",
    "        'fecha': '2023-05-16',\n",
    "        'codigo_cliente': clientes[1]['ID'],\n",
    "        'importe_total': 200.0\n",
    "    },\n",
    "    {\n",
    "        'codigo_pedido': str(uuid.uuid4().int)[:7],\n",
    "        'fecha': '2023-05-16',\n",
    "        'codigo_cliente': clientes[1]['ID'],\n",
    "        'importe_total': 50.0\n",
    "    },\n",
    "    {\n",
    "        'codigo_pedido': str(uuid.uuid4().int)[:7],\n",
    "        'fecha': '2023-05-16',\n",
    "        'codigo_cliente': clientes[1]['ID'],\n",
    "        'importe_total': 100.0\n",
    "    },\n",
    "    {\n",
    "        'codigo_pedido': str(uuid.uuid4().int)[:7],\n",
    "        'fecha': '2023-05-16',\n",
    "        'codigo_cliente': clientes[2]['ID'],\n",
    "        'importe_total': 200.0\n",
    "    },\n",
    "    {\n",
    "        'codigo_pedido': str(uuid.uuid4().int)[:7],\n",
    "        'fecha': '2023-05-16',\n",
    "        'codigo_cliente': clientes[2]['ID'],\n",
    "        'importe_total': 300.0\n",
    "    },\n",
    "]"
   ]
  },
  {
   "cell_type": "code",
   "execution_count": 85,
   "metadata": {},
   "outputs": [
    {
     "name": "stdout",
     "output_type": "stream",
     "text": [
      "['Tienda', 'admin', 'config', 'local']\n"
     ]
    }
   ],
   "source": [
    "# Nos conectamos a la base de datos local que creamos.\n",
    "client = MongoClient('localhost')\n",
    "print( client.list_database_names())"
   ]
  },
  {
   "cell_type": "code",
   "execution_count": 86,
   "metadata": {},
   "outputs": [
    {
     "name": "stdout",
     "output_type": "stream",
     "text": [
      "\n"
     ]
    }
   ],
   "source": [
    "# Creamos nuestra nueva base de datos a)\n",
    "db = client['Tienda']\n",
    "# Creamos las colecciones que necesitamos a)\n",
    "clientes_col = db['clientes']\n",
    "pedidos_col = db['pedidos']\n",
    "# Insertamos los clientes uno a uno c)\n",
    "for cliente in clientes:\n",
    "    clientes_col.insert_one(cliente)\n",
    "# Insertamos todos los pedidos a la vez c)\n",
    "pedidos_col.insert_many(pedidos)\n",
    "print('')"
   ]
  },
  {
   "cell_type": "code",
   "execution_count": 87,
   "metadata": {},
   "outputs": [
    {
     "name": "stdout",
     "output_type": "stream",
     "text": [
      "['Tienda', 'admin', 'config', 'local']\n",
      "['pedidos', 'clientes']\n",
      "6\n",
      "14\n"
     ]
    }
   ],
   "source": [
    "# Vamos a ver qué hay en nuestra base de datos.\n",
    "print( client.list_database_names())\n",
    "print( db.list_collection_names())\n",
    "print(clientes_col.count_documents({}))\n",
    "print(pedidos_col.count_documents({}))"
   ]
  },
  {
   "cell_type": "code",
   "execution_count": 88,
   "metadata": {},
   "outputs": [],
   "source": [
    "# Leemos todos los clientes y todos los pedidos d)\n",
    "clients = clientes_col.find()\n",
    "peds = pedidos_col.find()\n",
    "\n",
    "# Recorremos todos los clientes\n",
    "for cliente in clientes:\n",
    "    # Leemos los pedidos del cliente d)\n",
    "    id_cliente = cliente['ID']\n",
    "    pedidos_cliente = pedidos_col.find({'codigo_cliente': id_cliente})\n",
    "\n",
    "    # Actualizamos los pedidos del cliente\n",
    "    cliente_pedidos = []\n",
    "    dinero_gastado = 0.0\n",
    "    num_pedidos = 0\n",
    "    for pedido in pedidos_cliente:\n",
    "        cliente_pedidos.append(pedido)\n",
    "        dinero_gastado += pedido['importe_total']\n",
    "        num_pedidos += 1\n",
    "\n",
    "    # Actualizamos los datos del cliente en la base de datos: e) \n",
    "    clientes_col.update_one(\n",
    "        {'ID': id_cliente},\n",
    "        {'$set': {'pedidos': cliente_pedidos,\n",
    "                  'dinero_gastado':dinero_gastado,\n",
    "                  'num_pedidos':num_pedidos}}\n",
    "    )"
   ]
  },
  {
   "cell_type": "code",
   "execution_count": 89,
   "metadata": {},
   "outputs": [
    {
     "name": "stdout",
     "output_type": "stream",
     "text": [
      "{'ID': '7791858',\n",
      " '_id': ObjectId('6473c61c216a25c18180a7a1'),\n",
      " 'apellidos': 'Cuenca',\n",
      " 'dinero_gastado': 250.0,\n",
      " 'nombre': 'Pedro',\n",
      " 'num_pedidos': 2,\n",
      " 'pedidos': [{'_id': ObjectId('6473c61c216a25c18180a7a4'),\n",
      "              'codigo_cliente': '7791858',\n",
      "              'codigo_pedido': '1848185',\n",
      "              'fecha': '2023-05-18',\n",
      "              'importe_total': 100.0},\n",
      "             {'_id': ObjectId('6473c61c216a25c18180a7a5'),\n",
      "              'codigo_cliente': '7791858',\n",
      "              'codigo_pedido': '2549635',\n",
      "              'fecha': '2023-05-17',\n",
      "              'importe_total': 150.0}]}\n",
      "{'ID': '1627859',\n",
      " '_id': ObjectId('6473c61c216a25c18180a7a2'),\n",
      " 'apellidos': 'Martínez',\n",
      " 'dinero_gastado': 350.0,\n",
      " 'nombre': 'Ana',\n",
      " 'num_pedidos': 3,\n",
      " 'pedidos': [{'_id': ObjectId('6473c61c216a25c18180a7a6'),\n",
      "              'codigo_cliente': '1627859',\n",
      "              'codigo_pedido': '6811233',\n",
      "              'fecha': '2023-05-16',\n",
      "              'importe_total': 200.0},\n",
      "             {'_id': ObjectId('6473c61c216a25c18180a7a7'),\n",
      "              'codigo_cliente': '1627859',\n",
      "              'codigo_pedido': '3206372',\n",
      "              'fecha': '2023-05-16',\n",
      "              'importe_total': 50.0},\n",
      "             {'_id': ObjectId('6473c61c216a25c18180a7a8'),\n",
      "              'codigo_cliente': '1627859',\n",
      "              'codigo_pedido': '1377511',\n",
      "              'fecha': '2023-05-16',\n",
      "              'importe_total': 100.0}]}\n",
      "{'ID': '2596210',\n",
      " '_id': ObjectId('6473c61c216a25c18180a7a3'),\n",
      " 'apellidos': 'Romero',\n",
      " 'dinero_gastado': 500.0,\n",
      " 'nombre': 'Alicia',\n",
      " 'num_pedidos': 2,\n",
      " 'pedidos': [{'_id': ObjectId('6473c61c216a25c18180a7a9'),\n",
      "              'codigo_cliente': '2596210',\n",
      "              'codigo_pedido': '1042060',\n",
      "              'fecha': '2023-05-16',\n",
      "              'importe_total': 200.0},\n",
      "             {'_id': ObjectId('6473c61c216a25c18180a7aa'),\n",
      "              'codigo_cliente': '2596210',\n",
      "              'codigo_pedido': '2665813',\n",
      "              'fecha': '2023-05-16',\n",
      "              'importe_total': 300.0}]}\n",
      "{'ID': '3979243',\n",
      " '_id': ObjectId('6473c6a6216a25c18180a7ac'),\n",
      " 'apellidos': 'Cuenca',\n",
      " 'dinero_gastado': 250.0,\n",
      " 'nombre': 'Pedro',\n",
      " 'num_pedidos': 2,\n",
      " 'pedidos': [{'_id': ObjectId('6473c6a6216a25c18180a7af'),\n",
      "              'codigo_cliente': '3979243',\n",
      "              'codigo_pedido': '3010931',\n",
      "              'fecha': '2023-05-18',\n",
      "              'importe_total': 100.0},\n",
      "             {'_id': ObjectId('6473c6a6216a25c18180a7b0'),\n",
      "              'codigo_cliente': '3979243',\n",
      "              'codigo_pedido': '5993305',\n",
      "              'fecha': '2023-05-17',\n",
      "              'importe_total': 150.0}]}\n",
      "{'ID': '2088917',\n",
      " '_id': ObjectId('6473c6a6216a25c18180a7ad'),\n",
      " 'apellidos': 'Martínez',\n",
      " 'dinero_gastado': 350.0,\n",
      " 'nombre': 'Ana',\n",
      " 'num_pedidos': 3,\n",
      " 'pedidos': [{'_id': ObjectId('6473c6a6216a25c18180a7b1'),\n",
      "              'codigo_cliente': '2088917',\n",
      "              'codigo_pedido': '4006604',\n",
      "              'fecha': '2023-05-16',\n",
      "              'importe_total': 200.0},\n",
      "             {'_id': ObjectId('6473c6a6216a25c18180a7b2'),\n",
      "              'codigo_cliente': '2088917',\n",
      "              'codigo_pedido': '1383432',\n",
      "              'fecha': '2023-05-16',\n",
      "              'importe_total': 50.0},\n",
      "             {'_id': ObjectId('6473c6a6216a25c18180a7b3'),\n",
      "              'codigo_cliente': '2088917',\n",
      "              'codigo_pedido': '9962477',\n",
      "              'fecha': '2023-05-16',\n",
      "              'importe_total': 100.0}]}\n",
      "{'ID': '2279224',\n",
      " '_id': ObjectId('6473c6a6216a25c18180a7ae'),\n",
      " 'apellidos': 'Romero',\n",
      " 'dinero_gastado': 500.0,\n",
      " 'nombre': 'Alicia',\n",
      " 'num_pedidos': 2,\n",
      " 'pedidos': [{'_id': ObjectId('6473c6a6216a25c18180a7b4'),\n",
      "              'codigo_cliente': '2279224',\n",
      "              'codigo_pedido': '2414870',\n",
      "              'fecha': '2023-05-16',\n",
      "              'importe_total': 200.0},\n",
      "             {'_id': ObjectId('6473c6a6216a25c18180a7b5'),\n",
      "              'codigo_cliente': '2279224',\n",
      "              'codigo_pedido': '8197736',\n",
      "              'fecha': '2023-05-16',\n",
      "              'importe_total': 300.0}]}\n"
     ]
    }
   ],
   "source": [
    "# Vamos a imprimirlo de forma legible usando pprint\n",
    "for cliente in clientes_col.find({}): # Se pueden meter los condicionales de mongo.\n",
    "    pprint(cliente)"
   ]
  },
  {
   "cell_type": "code",
   "execution_count": 90,
   "metadata": {},
   "outputs": [],
   "source": [
    "#client.drop_database('Tienda') # Descomentar para eliminar la base de datos."
   ]
  },
  {
   "cell_type": "code",
   "execution_count": 91,
   "metadata": {},
   "outputs": [],
   "source": [
    "client.close() # Cerramos la conexión con el cliente"
   ]
  },
  {
   "cell_type": "code",
   "execution_count": null,
   "metadata": {},
   "outputs": [],
   "source": []
  }
 ],
 "metadata": {
  "kernelspec": {
   "display_name": "cursoIA",
   "language": "python",
   "name": "python3"
  },
  "language_info": {
   "codemirror_mode": {
    "name": "ipython",
    "version": 3
   },
   "file_extension": ".py",
   "mimetype": "text/x-python",
   "name": "python",
   "nbconvert_exporter": "python",
   "pygments_lexer": "ipython3",
   "version": "3.9.16"
  },
  "orig_nbformat": 4
 },
 "nbformat": 4,
 "nbformat_minor": 2
}
