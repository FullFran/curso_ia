{
 "cells": [
  {
   "attachments": {},
   "cell_type": "markdown",
   "metadata": {},
   "source": [
    "# Primero vamos a crear una neurona:\n"
   ]
  },
  {
   "cell_type": "code",
   "execution_count": 1,
   "metadata": {},
   "outputs": [],
   "source": [
    "import numpy as np"
   ]
  },
  {
   "cell_type": "code",
   "execution_count": 2,
   "metadata": {},
   "outputs": [],
   "source": [
    "sigm = (lambda x: 1 / (1+np.exp(-x)),\n",
    "        lambda x: x * (1-x))\n",
    "\n",
    "mse_loss = (lambda yp, yr: np.mean((yp-yr)**2),\n",
    "            lambda Yp, Yr: 2*(Yp - Yr))"
   ]
  },
  {
   "cell_type": "code",
   "execution_count": 3,
   "metadata": {},
   "outputs": [],
   "source": [
    "class neurona():\n",
    "    def __init__(self, weights, bias, fun_act):\n",
    "        self.weights = weights\n",
    "        self.bias = bias\n",
    "        self.fun_act = fun_act\n",
    "\n",
    "    def feedforward(self, inputs):\n",
    "        z = self.bias + np.dot(self.weights, inputs)\n",
    "        return self.fun_act[0](z)"
   ]
  },
  {
   "cell_type": "code",
   "execution_count": 4,
   "metadata": {},
   "outputs": [
    {
     "name": "stdout",
     "output_type": "stream",
     "text": [
      "[1 0]\n",
      "1\n",
      "0.8807970779778823\n"
     ]
    }
   ],
   "source": [
    "# Cramos nuestra primera neurona:\n",
    "w = np.array([1, 0])\n",
    "bias = 1\n",
    "n_ejemplo = neurona(w, bias, sigm)\n",
    "\n",
    "print(n_ejemplo.weights)\n",
    "print(n_ejemplo.bias)\n",
    "x = np.array([1, 1])\n",
    "y = n_ejemplo.feedforward(x)\n",
    "print(y)"
   ]
  },
  {
   "cell_type": "code",
   "execution_count": 209,
   "metadata": {},
   "outputs": [
    {
     "name": "stdout",
     "output_type": "stream",
     "text": [
      "[array([[0.67413033, 0.39561082],\n",
      "       [0.01412828, 0.57215117]]), array([[0.92927571],\n",
      "       [0.91032372]])]\n",
      "[array([0.21965972, 0.72598256]), array([0.09166164])]\n",
      "[[0.82095106]\n",
      " [0.84751389]]\n"
     ]
    },
    {
     "data": {
      "text/plain": [
       "array([0.86133531])"
      ]
     },
     "execution_count": 209,
     "metadata": {},
     "output_type": "execute_result"
    }
   ],
   "source": [
    "# creamos nuestra primera red neuronal.\n",
    "\n",
    "class my_neural_network():\n",
    "    def __init__(self, topologia, act_fun):\n",
    "        self.topologia = topologia\n",
    "        self.act_fun = act_fun\n",
    "        self.pesos = []\n",
    "        self.bias = []\n",
    "\n",
    "        for i in range(len(topologia)-1):\n",
    "            wi = np.random.rand(topologia[i], topologia[i+1])\n",
    "            bi = np.random.rand(topologia[i+1])\n",
    "            self.pesos.append(wi)\n",
    "            self.bias.append(bi)\n",
    "        self.bias[-1] = np.random.rand(1)\n",
    "\n",
    "    def feedforward(self, x):\n",
    "        a = x\n",
    "        for w, b in zip(self.pesos, self.bias):\n",
    "            z = np.dot(a, w) + b\n",
    "            a = self.act_fun[0](z)\n",
    "        return a\n",
    "\n",
    "    def train(self, data, y_true, lr=0.01, epochs=100):\n",
    "        for epoch in range(epochs):\n",
    "            for x, y in zip(data, y_true):\n",
    "                activation = [x]\n",
    "                a = x\n",
    "                for w, b in zip(self.pesos, self.bias):\n",
    "                    z = np.dot(a, w) + b\n",
    "                    a = self.act_fun[0](z)\n",
    "                    activation.append(a)\n",
    "\n",
    "                # Backpropagation\n",
    "                deltas = []\n",
    "                for l in reversed(range(len(self.topologia)-1)):\n",
    "                    a = activation[l+1]\n",
    "                    z = a @ self.pesos[l].T + self.bias[l]\n",
    "\n",
    "                    if l == len(self.topologia) - 2:\n",
    "                        deltas.insert(0, self.act_fun[1](a) * mse_loss[1](a, y))\n",
    "                    else:\n",
    "                        deltas.insert(0, np.dot(deltas[0], _w.T) * self.act_fun[1](a))\n",
    "\n",
    "                    _w = self.pesos[l]\n",
    "\n",
    "                    self.bias[l] = self.bias[l] - lr * np.mean(deltas[0], axis=0, keepdims=True)\n",
    "                    self.pesos[l] = self.pesos[l] - lr * np.dot(np.expand_dims(activation[l], axis=1), np.expand_dims(deltas[0], axis=0))\n",
    "\n",
    "        return activation[-1]\n",
    "\n",
    "topologia = [2, 2, 1]\n",
    "act_fun = (sigm[0], sigm[1])\n",
    "\n",
    "red = my_neural_network(topologia, act_fun)\n",
    "x = np.array([[1, 1], [2, 2]])\n",
    "y = red.feedforward(x)\n",
    "print(red.pesos)\n",
    "print(red.bias)\n",
    "print(y)\n",
    "\n",
    "red.train(x, np.array([[1], [1]]))\n"
   ]
  },
  {
   "cell_type": "code",
   "execution_count": 210,
   "metadata": {},
   "outputs": [
    {
     "name": "stdout",
     "output_type": "stream",
     "text": [
      "Pesos iniciales:\n",
      "[array([[0.72373937, 0.18068184],\n",
      "       [0.97783174, 0.84133393]]), array([[0.19901478],\n",
      "       [0.85017155]])]\n",
      "Sesgos iniciales:\n",
      "[array([0.18155677, 0.7386759 ]), array([0.18880429])]\n",
      "Salidas antes del entrenamiento:\n",
      "[[0.74781475]\n",
      " [0.76550152]]\n",
      "Pesos finales:\n",
      "[array([[0.72530339, 0.18874333],\n",
      "       [0.97939576, 0.84939542]]), array([[0.27059925],\n",
      "       [0.92007301]])]\n",
      "Sesgos finales:\n",
      "[array([0.18538947, 0.74250859]), array([0.26685581])]\n",
      "Salidas después del entrenamiento:\n",
      "[[0.78403211]\n",
      " [0.80194229]]\n"
     ]
    }
   ],
   "source": [
    "topologia = [2, 2, 1]\n",
    "act_fun = (sigm[0], sigm[1])\n",
    "\n",
    "red = my_neural_network(topologia, act_fun)\n",
    "x = np.array([[1, 1], [2, 2]])\n",
    "\n",
    "# Salidas antes del entrenamiento\n",
    "y_before = red.feedforward(x)\n",
    "\n",
    "print(\"Pesos iniciales:\")\n",
    "print(red.pesos)\n",
    "print(\"Sesgos iniciales:\")\n",
    "print(red.bias)\n",
    "print(\"Salidas antes del entrenamiento:\")\n",
    "print(y_before)\n",
    "\n",
    "red.train(x, np.array([[1], [1]]))\n",
    "\n",
    "# Salidas después del entrenamiento\n",
    "y_after = red.feedforward(x)\n",
    "\n",
    "print(\"Pesos finales:\")\n",
    "print(red.pesos)\n",
    "print(\"Sesgos finales:\")\n",
    "print(red.bias)\n",
    "print(\"Salidas después del entrenamiento:\")\n",
    "print(y_after)"
   ]
  },
  {
   "cell_type": "code",
   "execution_count": 194,
   "metadata": {},
   "outputs": [
    {
     "data": {
      "text/plain": [
       "array([[0.84296286],\n",
       "       [0.85577101]])"
      ]
     },
     "execution_count": 194,
     "metadata": {},
     "output_type": "execute_result"
    }
   ],
   "source": []
  },
  {
   "cell_type": "code",
   "execution_count": 145,
   "metadata": {},
   "outputs": [
    {
     "name": "stdout",
     "output_type": "stream",
     "text": [
      "1\n",
      "0\n",
      "2\n"
     ]
    }
   ],
   "source": [
    "topologia = [2, 2, 1]\n",
    "for l in reversed(range(len(topologia)-1)):\n",
    "    print(l)\n",
    "\n",
    "print(len(topologia)-1)"
   ]
  },
  {
   "cell_type": "code",
   "execution_count": 7,
   "metadata": {},
   "outputs": [],
   "source": [
    "import random\n",
    "import pandas as pd"
   ]
  },
  {
   "cell_type": "code",
   "execution_count": 21,
   "metadata": {},
   "outputs": [
    {
     "data": {
      "text/html": [
       "<div>\n",
       "<style scoped>\n",
       "    .dataframe tbody tr th:only-of-type {\n",
       "        vertical-align: middle;\n",
       "    }\n",
       "\n",
       "    .dataframe tbody tr th {\n",
       "        vertical-align: top;\n",
       "    }\n",
       "\n",
       "    .dataframe thead th {\n",
       "        text-align: right;\n",
       "    }\n",
       "</style>\n",
       "<table border=\"1\" class=\"dataframe\">\n",
       "  <thead>\n",
       "    <tr style=\"text-align: right;\">\n",
       "      <th></th>\n",
       "      <th>peso</th>\n",
       "      <th>altura</th>\n",
       "      <th>M/H</th>\n",
       "    </tr>\n",
       "  </thead>\n",
       "  <tbody>\n",
       "    <tr>\n",
       "      <th>0</th>\n",
       "      <td>71.186041</td>\n",
       "      <td>179.443351</td>\n",
       "      <td>1.0</td>\n",
       "    </tr>\n",
       "    <tr>\n",
       "      <th>1</th>\n",
       "      <td>72.708000</td>\n",
       "      <td>175.619442</td>\n",
       "      <td>1.0</td>\n",
       "    </tr>\n",
       "    <tr>\n",
       "      <th>2</th>\n",
       "      <td>39.325450</td>\n",
       "      <td>151.294516</td>\n",
       "      <td>0.0</td>\n",
       "    </tr>\n",
       "    <tr>\n",
       "      <th>3</th>\n",
       "      <td>58.709098</td>\n",
       "      <td>181.007943</td>\n",
       "      <td>1.0</td>\n",
       "    </tr>\n",
       "    <tr>\n",
       "      <th>4</th>\n",
       "      <td>70.527371</td>\n",
       "      <td>169.508931</td>\n",
       "      <td>1.0</td>\n",
       "    </tr>\n",
       "  </tbody>\n",
       "</table>\n",
       "</div>"
      ],
      "text/plain": [
       "        peso      altura  M/H\n",
       "0  71.186041  179.443351  1.0\n",
       "1  72.708000  175.619442  1.0\n",
       "2  39.325450  151.294516  0.0\n",
       "3  58.709098  181.007943  1.0\n",
       "4  70.527371  169.508931  1.0"
      ]
     },
     "execution_count": 21,
     "metadata": {},
     "output_type": "execute_result"
    }
   ],
   "source": [
    "# Creamos nuestro dataset de hombres y mujeres, con su altura y su peso.\n",
    "\n",
    "hombres = 1000\n",
    "mujeres = 1000\n",
    "\n",
    "h_peso = 70\n",
    "h_alt = 170\n",
    "h_des = 10\n",
    "\n",
    "m_peso = 50\n",
    "m_alt = 160\n",
    "m_des = 10\n",
    "\n",
    "m_data = [np.random.normal(m_peso, m_des, mujeres), np.random.normal(\n",
    "    m_alt, m_des, mujeres), np.zeros(mujeres)]\n",
    "m_data = np.array(m_data).T\n",
    "\n",
    "h_data = [np.random.normal(h_peso, h_des, hombres), np.random.normal(\n",
    "    h_alt, h_des, hombres), np.ones(hombres)]\n",
    "h_data = np.array(h_data).T\n",
    "\n",
    "data = np.concatenate((m_data, h_data), axis=0)\n",
    "np.random.shuffle(data)\n",
    "\n",
    "\n",
    "datos_hm = pd.DataFrame(columns=['peso', 'altura', 'M/H'], data=data)\n",
    "\n",
    "datos_hm.head()"
   ]
  },
  {
   "cell_type": "code",
   "execution_count": 70,
   "metadata": {},
   "outputs": [],
   "source": [
    "# Extraemos nuestros datos (X) y nuestros resultados (Y) del dataset\n",
    "\n",
    "X = data[:, :2]\n",
    "Y = data[:, 2:]"
   ]
  },
  {
   "cell_type": "code",
   "execution_count": 262,
   "metadata": {},
   "outputs": [],
   "source": []
  },
  {
   "cell_type": "code",
   "execution_count": 264,
   "metadata": {},
   "outputs": [
    {
     "name": "stdout",
     "output_type": "stream",
     "text": [
      "\n"
     ]
    }
   ],
   "source": [
    "red = my_neural_network([2,2,1], sigm)\n",
    "red.train(X,Y)\n",
    "print('')"
   ]
  },
  {
   "cell_type": "code",
   "execution_count": 265,
   "metadata": {},
   "outputs": [
    {
     "data": {
      "text/plain": [
       "array([0.49703504])"
      ]
     },
     "execution_count": 265,
     "metadata": {},
     "output_type": "execute_result"
    }
   ],
   "source": [
    "red.feedforward(np.array([139,20]))"
   ]
  },
  {
   "attachments": {},
   "cell_type": "markdown",
   "metadata": {},
   "source": [
    "# Red con keras y tensorflow"
   ]
  },
  {
   "cell_type": "code",
   "execution_count": 267,
   "metadata": {},
   "outputs": [],
   "source": [
    "import tensorflow as tf"
   ]
  },
  {
   "cell_type": "code",
   "execution_count": 280,
   "metadata": {},
   "outputs": [],
   "source": [
    "mnist = tf.keras.datasets.mnist\n",
    "\n",
    "(x_train, y_train), (x_test, y_test) = mnist.load_data()\n",
    "\n",
    "x_train, x_test = x_train / 255.0, x_test / 255.0"
   ]
  },
  {
   "cell_type": "code",
   "execution_count": 305,
   "metadata": {},
   "outputs": [
    {
     "data": {
      "image/png": "[encoded data removed]",
      "text/plain": [
       "<Figure size 640x480 with 1 Axes>"
      ]
     },
     "metadata": {},
     "output_type": "display_data"
    },
    {
     "name": "stdout",
     "output_type": "stream",
     "text": [
      "4\n"
     ]
    }
   ],
   "source": [
    "import matplotlib.pyplot as plt\n",
    "# vemos los datos\n",
    "i = 9\n",
    "plt.imshow(x_train[i], cmap='gray')\n",
    "plt.show()\n",
    "print(y_train[i])"
   ]
  },
  {
   "cell_type": "code",
   "execution_count": 321,
   "metadata": {},
   "outputs": [],
   "source": [
    "loss_fn = tf.keras.losses.SparseCategoricalCrossentropy(from_logits=True)"
   ]
  },
  {
   "cell_type": "code",
   "execution_count": 447,
   "metadata": {},
   "outputs": [],
   "source": [
    "model = tf.keras.models.Sequential([\n",
    "    # capa aplanar: comvierte en un array de una dimensión la matriz de entrada\n",
    "  tf.keras.layers.Flatten(input_shape=(28, 28)),\n",
    "\n",
    "    # esta es una capa densa con activación relu de 128 neuronas\n",
    "  tf.keras.layers.Dense(128, activation='relu'),\n",
    "\n",
    "    # aquí hacemos un dropout (apagar aleatoriamente ciertas conexiones \n",
    "    # para evitar conexiones demasiado fuertes y encontrar otros patrones de relación)\n",
    "  tf.keras.layers.Dropout(0.2),\n",
    "\n",
    "    # otra capa densa de 10 neuronas sin función de activación para obtener la salida\n",
    "    #  (10 números posibles)\n",
    "  tf.keras.layers.Dense(10)\n",
    "])\n",
    "\n",
    "model.compile(optimizer='adam',loss=loss_fn, metrics=['accuracy'])"
   ]
  },
  {
   "cell_type": "code",
   "execution_count": 348,
   "metadata": {},
   "outputs": [
    {
     "name": "stdout",
     "output_type": "stream",
     "text": [
      "[[  0.   0.   0.   0.   0. 100.   0.   0.   0.   0.]\n",
      " [100.   0.   0.   0.   0.   0.   0.   0.   0.   0.]\n",
      " [  0.   0.   0.   0. 100.   0.   0.   0.   0.   0.]\n",
      " [  0. 100.   0.   0.   0.   0.   0.   0.   0.   0.]\n",
      " [  0.   0.   0.   0.   0.   0.   0.   0.   0. 100.]]\n"
     ]
    }
   ],
   "source": [
    "# vemos que funciona el forward pass:\n",
    "\n",
    "predictions = model(x_train[:5]).numpy()\n",
    "predictions = tf.nn.softmax(predictions).numpy()\n",
    "print(np.round(predictions*100))"
   ]
  },
  {
   "cell_type": "code",
   "execution_count": 448,
   "metadata": {},
   "outputs": [
    {
     "name": "stdout",
     "output_type": "stream",
     "text": [
      "Epoch 1/50\n",
      "600/600 [==============================] - 1s 1ms/step - loss: 0.3761 - accuracy: 0.8914\n",
      "Epoch 2/50\n",
      "600/600 [==============================] - 1s 1ms/step - loss: 0.1803 - accuracy: 0.9481\n",
      "Epoch 3/50\n",
      "600/600 [==============================] - 1s 1ms/step - loss: 0.1379 - accuracy: 0.9591\n",
      "Epoch 4/50\n",
      "600/600 [==============================] - 1s 1ms/step - loss: 0.1118 - accuracy: 0.9670\n",
      "Epoch 5/50\n",
      "600/600 [==============================] - 1s 1ms/step - loss: 0.0966 - accuracy: 0.9710\n",
      "Epoch 6/50\n",
      "600/600 [==============================] - 1s 1ms/step - loss: 0.0856 - accuracy: 0.9737\n",
      "Epoch 7/50\n",
      "600/600 [==============================] - 1s 1ms/step - loss: 0.0725 - accuracy: 0.9775\n",
      "Epoch 8/50\n",
      "600/600 [==============================] - 1s 1ms/step - loss: 0.0660 - accuracy: 0.9796\n",
      "Epoch 9/50\n",
      "600/600 [==============================] - 1s 1ms/step - loss: 0.0589 - accuracy: 0.9822\n",
      "Epoch 10/50\n",
      "600/600 [==============================] - 1s 1ms/step - loss: 0.0539 - accuracy: 0.9825\n",
      "Epoch 11/50\n",
      "600/600 [==============================] - 1s 1ms/step - loss: 0.0495 - accuracy: 0.9842\n",
      "Epoch 12/50\n",
      "600/600 [==============================] - 1s 1ms/step - loss: 0.0455 - accuracy: 0.9854\n",
      "Epoch 13/50\n",
      "600/600 [==============================] - 1s 1ms/step - loss: 0.0434 - accuracy: 0.9860\n",
      "Epoch 14/50\n",
      "600/600 [==============================] - 1s 1ms/step - loss: 0.0384 - accuracy: 0.9880\n",
      "Epoch 15/50\n",
      "600/600 [==============================] - 1s 1ms/step - loss: 0.0366 - accuracy: 0.9879\n",
      "Epoch 16/50\n",
      "600/600 [==============================] - 1s 1ms/step - loss: 0.0343 - accuracy: 0.9890\n",
      "Epoch 17/50\n",
      "600/600 [==============================] - 1s 1ms/step - loss: 0.0324 - accuracy: 0.9900\n",
      "Epoch 18/50\n",
      "600/600 [==============================] - 1s 1ms/step - loss: 0.0294 - accuracy: 0.9904\n",
      "Epoch 19/50\n",
      "600/600 [==============================] - 1s 1ms/step - loss: 0.0298 - accuracy: 0.9901\n",
      "Epoch 20/50\n",
      "600/600 [==============================] - 1s 1ms/step - loss: 0.0290 - accuracy: 0.9900\n",
      "Epoch 21/50\n",
      "600/600 [==============================] - 1s 1ms/step - loss: 0.0259 - accuracy: 0.9917\n",
      "Epoch 22/50\n",
      "600/600 [==============================] - 1s 1ms/step - loss: 0.0246 - accuracy: 0.9917\n",
      "Epoch 23/50\n",
      "600/600 [==============================] - 1s 1ms/step - loss: 0.0238 - accuracy: 0.9919\n",
      "Epoch 24/50\n",
      "600/600 [==============================] - 1s 1ms/step - loss: 0.0245 - accuracy: 0.9918\n",
      "Epoch 25/50\n",
      "600/600 [==============================] - 1s 1ms/step - loss: 0.0216 - accuracy: 0.9930\n",
      "Epoch 26/50\n",
      "600/600 [==============================] - 1s 1ms/step - loss: 0.0213 - accuracy: 0.9927\n",
      "Epoch 27/50\n",
      "600/600 [==============================] - 1s 1ms/step - loss: 0.0207 - accuracy: 0.9931\n",
      "Epoch 28/50\n",
      "600/600 [==============================] - 1s 1ms/step - loss: 0.0206 - accuracy: 0.9930\n",
      "Epoch 29/50\n",
      "600/600 [==============================] - 1s 1ms/step - loss: 0.0184 - accuracy: 0.9939\n",
      "Epoch 30/50\n",
      "600/600 [==============================] - 1s 1ms/step - loss: 0.0196 - accuracy: 0.9936\n",
      "Epoch 31/50\n",
      "600/600 [==============================] - 1s 2ms/step - loss: 0.0193 - accuracy: 0.9934\n",
      "Epoch 32/50\n",
      "600/600 [==============================] - 1s 1ms/step - loss: 0.0188 - accuracy: 0.9938\n",
      "Epoch 33/50\n",
      "600/600 [==============================] - 1s 1ms/step - loss: 0.0168 - accuracy: 0.9942\n",
      "Epoch 34/50\n",
      "600/600 [==============================] - 1s 1ms/step - loss: 0.0160 - accuracy: 0.9944\n",
      "Epoch 35/50\n",
      "600/600 [==============================] - 1s 1ms/step - loss: 0.0171 - accuracy: 0.9941\n",
      "Epoch 36/50\n",
      "600/600 [==============================] - 1s 1ms/step - loss: 0.0165 - accuracy: 0.9944\n",
      "Epoch 37/50\n",
      "600/600 [==============================] - 1s 1ms/step - loss: 0.0159 - accuracy: 0.9947\n",
      "Epoch 38/50\n",
      "600/600 [==============================] - 1s 1ms/step - loss: 0.0141 - accuracy: 0.9952\n",
      "Epoch 39/50\n",
      "600/600 [==============================] - 1s 1ms/step - loss: 0.0140 - accuracy: 0.9950\n",
      "Epoch 40/50\n",
      "600/600 [==============================] - 1s 1ms/step - loss: 0.0149 - accuracy: 0.9954\n",
      "Epoch 41/50\n",
      "600/600 [==============================] - 1s 1ms/step - loss: 0.0140 - accuracy: 0.9954\n",
      "Epoch 42/50\n",
      "600/600 [==============================] - 1s 1ms/step - loss: 0.0149 - accuracy: 0.9953\n",
      "Epoch 43/50\n",
      "600/600 [==============================] - 1s 1ms/step - loss: 0.0139 - accuracy: 0.9955\n",
      "Epoch 44/50\n",
      "600/600 [==============================] - 1s 1ms/step - loss: 0.0138 - accuracy: 0.9949\n",
      "Epoch 45/50\n",
      "600/600 [==============================] - 1s 1ms/step - loss: 0.0137 - accuracy: 0.9953\n",
      "Epoch 46/50\n",
      "600/600 [==============================] - 1s 1ms/step - loss: 0.0142 - accuracy: 0.9952\n",
      "Epoch 47/50\n",
      "600/600 [==============================] - 1s 1ms/step - loss: 0.0134 - accuracy: 0.9953\n",
      "Epoch 48/50\n",
      "600/600 [==============================] - 1s 1ms/step - loss: 0.0128 - accuracy: 0.9958\n",
      "Epoch 49/50\n",
      "600/600 [==============================] - 1s 1ms/step - loss: 0.0136 - accuracy: 0.9951\n",
      "Epoch 50/50\n",
      "600/600 [==============================] - 1s 1ms/step - loss: 0.0114 - accuracy: 0.9962\n"
     ]
    },
    {
     "data": {
      "text/plain": [
       "<keras.callbacks.History at 0x2bef1ed6550>"
      ]
     },
     "execution_count": 448,
     "metadata": {},
     "output_type": "execute_result"
    }
   ],
   "source": [
    "model.fit(x_train, y_train, batch_size=100, epochs=50)"
   ]
  },
  {
   "cell_type": "code",
   "execution_count": 449,
   "metadata": {},
   "outputs": [
    {
     "data": {
      "image/png": "[encoded data removed]",
      "text/plain": [
       "<Figure size 640x480 with 1 Axes>"
      ]
     },
     "metadata": {},
     "output_type": "display_data"
    },
    {
     "name": "stdout",
     "output_type": "stream",
     "text": [
      "Es:  4\n",
      "Predice:  4\n"
     ]
    }
   ],
   "source": [
    "# vemos los datos\n",
    "i = 4\n",
    "plt.imshow(x_test[i], cmap='gray')\n",
    "plt.show()\n",
    "print('Es: ',y_test[i])\n",
    "\n",
    "predictions = model(x_test[i:i+1]).numpy()\n",
    "predictions = tf.nn.softmax(predictions).numpy()\n",
    "print('Predice: ',np.argmax(predictions))"
   ]
  },
  {
   "cell_type": "code",
   "execution_count": 450,
   "metadata": {},
   "outputs": [
    {
     "name": "stdout",
     "output_type": "stream",
     "text": [
      "313/313 - 0s - loss: 0.0874 - accuracy: 0.9814 - 294ms/epoch - 939us/step\n"
     ]
    },
    {
     "data": {
      "text/plain": [
       "[0.08735989034175873, 0.9814000129699707]"
      ]
     },
     "execution_count": 450,
     "metadata": {},
     "output_type": "execute_result"
    }
   ],
   "source": [
    "model.evaluate(x_test,  y_test, verbose=2)"
   ]
  },
  {
   "attachments": {},
   "cell_type": "markdown",
   "metadata": {},
   "source": [
    "# Como envolver un modelo en otro:"
   ]
  },
  {
   "cell_type": "code",
   "execution_count": 451,
   "metadata": {},
   "outputs": [],
   "source": [
    "model.trainable = False"
   ]
  },
  {
   "cell_type": "code",
   "execution_count": 452,
   "metadata": {},
   "outputs": [],
   "source": [
    "# Esto es un wrap de modelos:\n",
    "model_prob = tf.keras.models.Sequential([\n",
    "    model, # 'metemos nuestro modelo como capa'\n",
    "    tf.keras.layers.Softmax()\n",
    "])"
   ]
  },
  {
   "cell_type": "code",
   "execution_count": 461,
   "metadata": {},
   "outputs": [
    {
     "data": {
      "image/png": "[encoded data removed]",
      "text/plain": [
       "<Figure size 640x480 with 1 Axes>"
      ]
     },
     "metadata": {},
     "output_type": "display_data"
    },
    {
     "name": "stdout",
     "output_type": "stream",
     "text": [
      "Es:  4\n",
      "Predice:  4\n"
     ]
    }
   ],
   "source": [
    "# vemos los datos\n",
    "i = 4\n",
    "plt.imshow(x_test[i], cmap='gray')\n",
    "plt.show()\n",
    "print('Es: ',y_test[i])\n",
    "\n",
    "predictions = model_prob(x_test[i:i+1]).numpy()\n",
    "print('Predice: ',np.argmax(predictions))"
   ]
  }
 ],
 "metadata": {
  "kernelspec": {
   "display_name": "cursoIA",
   "language": "python",
   "name": "python3"
  },
  "language_info": {
   "codemirror_mode": {
    "name": "ipython",
    "version": 3
   },
   "file_extension": ".py",
   "mimetype": "text/x-python",
   "name": "python",
   "nbconvert_exporter": "python",
   "pygments_lexer": "ipython3",
   "version": "3.9.16"
  },
  "orig_nbformat": 4
 },
 "nbformat": 4,
 "nbformat_minor": 2
}
