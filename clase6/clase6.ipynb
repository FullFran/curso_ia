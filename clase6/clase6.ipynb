{
 "cells": [
  {
   "attachments": {},
   "cell_type": "markdown",
   "metadata": {},
   "source": [
    "# Teoría interesante:\n"
   ]
  },
  {
   "attachments": {},
   "cell_type": "markdown",
   "metadata": {},
   "source": [
    "## Decoradores:\n",
    "\n",
    "Sirven para añadir funcionalidades extra a cualquier función.\n"
   ]
  },
  {
   "cell_type": "code",
   "execution_count": 80,
   "metadata": {},
   "outputs": [
    {
     "name": "stdout",
     "output_type": "stream",
     "text": [
      "fex\n",
      "hola\n"
     ]
    }
   ],
   "source": [
    "# Triquiñuelas con las funciones.\n",
    "\n",
    "def f1():\n",
    "    print('hola')\n",
    "\n",
    "\n",
    "def f2(f):\n",
    "    print('fex')\n",
    "    f()\n",
    "\n",
    "\n",
    "f1 = f2(f1)  # Esto es lo que hace un decorador."
   ]
  },
  {
   "cell_type": "code",
   "execution_count": 158,
   "metadata": {},
   "outputs": [
    {
     "name": "stdout",
     "output_type": "stream",
     "text": [
      "Hola soy el decorador\n",
      "Hola soy el decorador del decorador\n",
      "Hola soy el decorador2\n",
      "Hola soy una función\n"
     ]
    },
    {
     "data": {
      "text/plain": [
       "5"
      ]
     },
     "execution_count": 158,
     "metadata": {},
     "output_type": "execute_result"
    }
   ],
   "source": [
    "# Un decorador es una función a la que se le pasa una función y se le asigna al nombre\n",
    "\n",
    "# función = decorador(funcion)\n",
    "\n",
    "def decorador(fun):\n",
    "    def wrapper(*args, **kwargs):\n",
    "        print('Hola soy el decorador')\n",
    "\n",
    "        return fun(*args, **kwargs)\n",
    "    return wrapper\n",
    "\n",
    "\n",
    "def decoradord(fun):\n",
    "    def wrapper(*args, **kwargs):\n",
    "        print('Hola soy el decorador del decorador')\n",
    "\n",
    "        return fun(*args, **kwargs)\n",
    "    return wrapper\n",
    "\n",
    "\n",
    "def decorador2(fun):\n",
    "    @ decoradord\n",
    "    def wrapper(*args, **kwargs):\n",
    "        print('Hola soy el decorador2')\n",
    "\n",
    "        return fun(*args, **kwargs)\n",
    "    return wrapper\n",
    "\n",
    "\n",
    "@ decorador\n",
    "@ decorador2\n",
    "def funcion(a, b):\n",
    "    print('Hola soy una función')\n",
    "    return a+b\n",
    "\n",
    "\n",
    "funcion(2, 3)\n",
    "\n",
    "\n",
    "# Usos: mostrar tiempo de ejecución, añadir diferencias, poner barras de carga...\n",
    "# Para decorar un decorador se decora el wrapper."
   ]
  },
  {
   "cell_type": "code",
   "execution_count": 209,
   "metadata": {},
   "outputs": [
    {
     "name": "stdout",
     "output_type": "stream",
     "text": [
      "Hola soy el decorador\n",
      "Hola soy una función\n",
      "Tras la función\n"
     ]
    },
    {
     "data": {
      "text/plain": [
       "'wrapper'"
      ]
     },
     "execution_count": 209,
     "metadata": {},
     "output_type": "execute_result"
    }
   ],
   "source": [
    "# Decorador para tiempo de ejecución:\n",
    "def decorador(fun):\n",
    "    def wrapper(*args, **kwargs):\n",
    "        print('Hola soy el decorador')\n",
    "        result = fun(*args, **kwargs)\n",
    "        print('Tras la función')\n",
    "        return result\n",
    "    return wrapper\n",
    "\n",
    "\n",
    "@ decorador\n",
    "def funcion(a, b):\n",
    "    print('Hola soy una función')\n",
    "    return a+b\n",
    "\n",
    "\n",
    "funcion(1, 2)\n",
    "\n",
    "funcion.__name__"
   ]
  },
  {
   "attachments": {},
   "cell_type": "markdown",
   "metadata": {},
   "source": [
    "Cree un decorador que de el nombre por pantalla de una función antes de ejecutarla. Luego, cree un timer (utilizando el módulo functools), que calcule el tiempo de ejecución de una función. Finalmente cree una función cualquiera y decórela con los decoradores anteriores.\n"
   ]
  },
  {
   "cell_type": "code",
   "execution_count": 216,
   "metadata": {},
   "outputs": [],
   "source": [
    "from functools import wraps\n",
    "import time"
   ]
  },
  {
   "cell_type": "code",
   "execution_count": 347,
   "metadata": {},
   "outputs": [
    {
     "name": "stdout",
     "output_type": "stream",
     "text": [
      "Ejecutando fun1\n",
      "Soy fun1 tras una dura carga de 0.5s...\n",
      "(fun1 hace como que trabaja)\n",
      "Ejecutado en 0.515s\n",
      "El resultado es:  2\n"
     ]
    }
   ],
   "source": [
    "def nombre(fun):\n",
    "    @ wraps(fun)\n",
    "    def wrapper(*args, **kwargs):\n",
    "        print(f'Ejecutando {fun.__name__}')\n",
    "        return fun(*args, **kwargs)\n",
    "    return wrapper\n",
    "\n",
    "\n",
    "def timer(fun):\n",
    "    @ wraps(fun)\n",
    "    def wrapper(*args, **kwargs):\n",
    "        inicio = time.time()\n",
    "        resultado = fun(*args, **kwargs)\n",
    "        fin = time.time()\n",
    "        t_ejecucion = fin - inicio\n",
    "        print(f'Ejecutado en {round(t_ejecucion, 3)}s')\n",
    "        return resultado\n",
    "    return wrapper\n",
    "\n",
    "\n",
    "@ nombre\n",
    "@ timer\n",
    "def fun1(a, b):\n",
    "    time.sleep(0.5)\n",
    "    print(f'Soy {fun1.__name__} tras una dura carga de 0.5s...\\n({fun1.__name__} hace como que trabaja)')\n",
    "    return a + b  # para que haga algo y ver que recibe bien los argumentos\n",
    "\n",
    "\n",
    "z = fun1(1, 1)\n",
    "\n",
    "print('El resultado es: ', z)"
   ]
  },
  {
   "attachments": {},
   "cell_type": "markdown",
   "metadata": {},
   "source": [
    "## Tratamiento de excepciones:\n",
    "\n",
    "    try:\n",
    "        intentamos hacer esto\n",
    "    except:\n",
    "        si no funciona haz esto\n"
   ]
  },
  {
   "cell_type": "code",
   "execution_count": 755,
   "metadata": {},
   "outputs": [
    {
     "name": "stdout",
     "output_type": "stream",
     "text": [
      "Try\n",
      "Else\n",
      "Terminado\n"
     ]
    }
   ],
   "source": [
    "a = 2\n",
    "\n",
    "try:\n",
    "    # raise Exception    # asi forzamos una excepción\n",
    "    for i in range(a):\n",
    "        a = a\n",
    "    print('Try')\n",
    "\n",
    "except Exception as cosa:\n",
    "    print(cosa)  # Así podemos mostrar el error que ha saltado\n",
    "    print('Except')\n",
    "else:  # si no saltan excepciones en el try que haga esto\n",
    "    print('Else')\n",
    "\n",
    "finally:  # siempre se ejecuta tras el try except\n",
    "    print('Terminado')"
   ]
  },
  {
   "attachments": {},
   "cell_type": "markdown",
   "metadata": {},
   "source": [
    "un try except con el finaly y el else y forzar que pasen cosas\n"
   ]
  },
  {
   "cell_type": "code",
   "execution_count": null,
   "metadata": {},
   "outputs": [],
   "source": []
  },
  {
   "attachments": {},
   "cell_type": "markdown",
   "metadata": {},
   "source": [
    "# Numpy:\n"
   ]
  },
  {
   "cell_type": "code",
   "execution_count": 756,
   "metadata": {},
   "outputs": [],
   "source": [
    "import numpy as np"
   ]
  },
  {
   "cell_type": "code",
   "execution_count": 974,
   "metadata": {},
   "outputs": [
    {
     "name": "stdout",
     "output_type": "stream",
     "text": [
      "(3, 3)\n",
      "[[0. 0.]\n",
      " [0. 0.]] \n",
      "\n",
      "[[[5.29860852e-01 7.61337964e-01 2.31359241e-01]\n",
      "  [9.82141183e-01 4.53661913e-01 2.40635479e-01]\n",
      "  [6.58933269e-01 2.14501044e-01 5.00231223e-01]]\n",
      "\n",
      " [[6.22279336e-01 1.38903148e-01 2.28867847e-01]\n",
      "  [8.82904019e-01 5.94348072e-01 4.29509574e-01]\n",
      "  [7.52215709e-01 6.72675583e-01 4.37185700e-01]]\n",
      "\n",
      " [[4.90888966e-01 4.72777589e-01 2.94630323e-01]\n",
      "  [6.22890529e-01 1.22190616e-01 3.79013616e-01]\n",
      "  [6.13037016e-01 1.93820246e-04 5.00761817e-01]]] \n",
      "\n",
      "(3, 3, 3)\n"
     ]
    }
   ],
   "source": [
    "arr = np.array([[1, 0, 0],\n",
    "                [0, 1, 0],\n",
    "                [0, 0, 1]])\n",
    "\n",
    "print(arr.shape)\n",
    "\n",
    "zeros = np.zeros((2, 2))\n",
    "print(zeros, '\\n')\n",
    "a = np.random.random((3, 3, 3))\n",
    "print(np.random.random((3, 3, 3)), '\\n')\n",
    "\n",
    "print(a.shape)"
   ]
  },
  {
   "cell_type": "code",
   "execution_count": 1124,
   "metadata": {},
   "outputs": [
    {
     "data": {
      "text/plain": [
       "array([[ 0,  1,  2,  3,  4],\n",
       "       [ 5,  6,  7,  8,  9],\n",
       "       [10, 11, 12, 13, 14],\n",
       "       [15, 16, 17, 18, 19],\n",
       "       [20, 21, 22, 23, 24]])"
      ]
     },
     "execution_count": 1124,
     "metadata": {},
     "output_type": "execute_result"
    }
   ],
   "source": [
    "v = np.array(range(25))\n",
    "v.reshape(5, 5)"
   ]
  },
  {
   "attachments": {},
   "cell_type": "markdown",
   "metadata": {},
   "source": [
    "Utilizando el módulo numpy, crear un vector de 9 unos utilizando una función del módulo\n",
    "Luego, convertirlo a una matriz de 3 x 3\n",
    "Aparte, hacer un vector de 3 elementos aleatorios\n",
    "Hacer que todos los elementos de la matriz sean negativos\n",
    "multiplicar el vector y la matriz\n"
   ]
  },
  {
   "cell_type": "code",
   "execution_count": 1126,
   "metadata": {},
   "outputs": [],
   "source": [
    "import numpy as np"
   ]
  },
  {
   "cell_type": "code",
   "execution_count": 1511,
   "metadata": {},
   "outputs": [
    {
     "name": "stdout",
     "output_type": "stream",
     "text": [
      "[[-1. -1. -1.]\n",
      " [-1. -1. -1.]\n",
      " [-1. -1. -1.]]\n",
      "\n",
      " [-0.58431548 -0.58431548 -0.58431548]\n",
      "\n",
      " [[-0.05736051 -0.47453088 -0.05242409]\n",
      " [-0.05736051 -0.47453088 -0.05242409]\n",
      " [-0.05736051 -0.47453088 -0.05242409]]\n",
      "\n",
      "Ehque el otro producto te pilla como matriz de [v,v,v][M]:\n",
      " [-0.5843154818134975, -0.5843154818134975, -0.5843154818134975]\n",
      "-0.4745308835066654\n",
      "-0.4745308835066654\n"
     ]
    }
   ],
   "source": [
    "v = np.ones(9)\n",
    "m = v.reshape(3, 3)\n",
    "\n",
    "u = np.random.random(3)\n",
    "\n",
    "mneg = -1 * np.abs(m)\n",
    "\n",
    "prod = u @ mneg \n",
    "\n",
    "prod2 = u * mneg \n",
    "print(mneg)\n",
    "\n",
    "print('\\n',prod)\n",
    "\n",
    "print('\\n',prod2)\n",
    "\n",
    "print('\\nEhque el otro producto te pilla como matriz de [v,v,v][M]:\\n',[sum(prod2[0]),sum(prod2[1]),sum(prod2[2])])\n",
    "\n",
    "print(prod2[(1,1)]) # acceder al 1,1\n",
    "print(prod2[1][1]) # es lo mismo "
   ]
  },
  {
   "attachments": {},
   "cell_type": "markdown",
   "metadata": {},
   "source": [
    "## Ultima parte de teoría en python"
   ]
  }
 ],
 "metadata": {
  "kernelspec": {
   "display_name": "cursoIA",
   "language": "python",
   "name": "python3"
  },
  "language_info": {
   "codemirror_mode": {
    "name": "ipython",
    "version": 3
   },
   "file_extension": ".py",
   "mimetype": "text/x-python",
   "name": "python",
   "nbconvert_exporter": "python",
   "pygments_lexer": "ipython3",
   "version": "3.9.16"
  },
  "orig_nbformat": 4
 },
 "nbformat": 4,
 "nbformat_minor": 2
}
