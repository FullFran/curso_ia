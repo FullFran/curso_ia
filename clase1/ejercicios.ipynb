{
 "cells": [
  {
   "cell_type": "code",
   "execution_count": 3,
   "metadata": {},
   "outputs": [
    {
     "data": {
      "text/plain": [
       "138"
      ]
     },
     "execution_count": 3,
     "metadata": {},
     "output_type": "execute_result"
    }
   ],
   "source": [
    "69*2"
   ]
  },
  {
   "cell_type": "code",
   "execution_count": 12,
   "metadata": {},
   "outputs": [
    {
     "name": "stdout",
     "output_type": "stream",
     "text": [
      "8\n",
      "8\n",
      "8\n",
      "2\n",
      "2\n",
      "2\n"
     ]
    }
   ],
   "source": [
    "x=2\n",
    "#Multiplicar por 4\n",
    "a1=x*4\n",
    "print(a1)\n",
    "x*=4\n",
    "print(x)\n",
    "x=2\n",
    "x<<=2\n",
    "print(x)\n",
    "#Dividir entre 4 (enteramente)\n",
    "y=8\n",
    "b1=y//4\n",
    "print(b1)\n",
    "y//=4\n",
    "print(y)\n",
    "y=8\n",
    "y>>=2\n",
    "print(y)\n",
    "\n",
    "\n",
    "\n"
   ]
  },
  {
   "attachments": {},
   "cell_type": "markdown",
   "metadata": {},
   "source": [
    "# 2. Entregables obligatorios"
   ]
  },
  {
   "attachments": {},
   "cell_type": "markdown",
   "metadata": {},
   "source": [
    "1) Crea un programa que dados dos parámetros r y h, calcule el perímetro P de una\n",
    "circunferencia de radio r, el área A de un círculo del mismo radio y el volúmen V de\n",
    "un cilindro de radio r y altura h. El programa debe mostrar los resultados por\n",
    "pantalla."
   ]
  },
  {
   "cell_type": "code",
   "execution_count": 1,
   "metadata": {},
   "outputs": [],
   "source": [
    "import numpy as np"
   ]
  },
  {
   "cell_type": "code",
   "execution_count": 4,
   "metadata": {},
   "outputs": [
    {
     "name": "stdout",
     "output_type": "stream",
     "text": [
      "(6.283185307179586, 3.141592653589793, 3.141592653589793)\n"
     ]
    }
   ],
   "source": [
    "def ej1(r,h):\n",
    "    P=2*np.pi*r\n",
    "    A=np.pi*r**2\n",
    "    V=A*h\n",
    "    return P,A,V\n",
    "print(ej1(1,1))"
   ]
  },
  {
   "attachments": {},
   "cell_type": "markdown",
   "metadata": {},
   "source": [
    "2) Crea un programa que descubra si un número es par:\n",
    "\n",
    "a- Utilizando cualquier operador\n",
    "\n",
    "b- Sin usar ninguno de los operadores de división (‘/’, ‘//’, ‘%’, etc.)"
   ]
  },
  {
   "cell_type": "code",
   "execution_count": 7,
   "metadata": {},
   "outputs": [
    {
     "name": "stdout",
     "output_type": "stream",
     "text": [
      "2  es par\n",
      "3  es impar\n"
     ]
    }
   ],
   "source": [
    "def ej2a(num):\n",
    "    p=num%2\n",
    "    if p==0:\n",
    "        print(str(num), ' es par')\n",
    "    else:\n",
    "        print(str(num), ' es impar')\n",
    "ej2a(2)\n",
    "ej2a(3)"
   ]
  },
  {
   "cell_type": "code",
   "execution_count": 9,
   "metadata": {},
   "outputs": [
    {
     "name": "stdout",
     "output_type": "stream",
     "text": [
      "2  es par\n",
      "5  es impar\n"
     ]
    }
   ],
   "source": [
    "def ej2a(num):\n",
    "    if ((num>>1)<<1)==num:\n",
    "        print(str(num), ' es par')\n",
    "    else:\n",
    "        print(str(num), ' es impar')\n",
    "ej2a(2)\n",
    "ej2a(5)"
   ]
  },
  {
   "attachments": {},
   "cell_type": "markdown",
   "metadata": {},
   "source": [
    "3) Crea un programa que divida un número entre 2 sin usar ninguno de los operadores\n",
    "de división."
   ]
  },
  {
   "cell_type": "code",
   "execution_count": 25,
   "metadata": {},
   "outputs": [
    {
     "name": "stdout",
     "output_type": "stream",
     "text": [
      "3\n",
      "5\n"
     ]
    }
   ],
   "source": [
    "def ej3(num):\n",
    "    return num>>1\n",
    "print(ej3(6))\n",
    "print(ej3(10))"
   ]
  },
  {
   "attachments": {},
   "cell_type": "markdown",
   "metadata": {},
   "source": [
    "4) Crea un programa que genere una lista de 1 a 100 y después encuentre los números\n",
    "primos que se encuentran ahí, incluirlos en una lista y mostrarlos por pantalla.\n"
   ]
  },
  {
   "cell_type": "code",
   "execution_count": 38,
   "metadata": {},
   "outputs": [
    {
     "name": "stdout",
     "output_type": "stream",
     "text": [
      "[1, 2, 3, 5, 7, 11, 13, 17, 19, 23, 29, 31, 37, 41, 43, 47, 53, 59, 61, 67, 71, 73, 79, 83, 89, 97]\n"
     ]
    }
   ],
   "source": [
    "#Creamos la lista\n",
    "lista=list(range(1,101))\n",
    "\n",
    "def es_primo(num):\n",
    "    if num<2:\n",
    "        return True\n",
    "    for i in range(2,int(num**0.5)+1): \n",
    "        if num %i==0:                       #Aquí comprobamos si es divisible entre\n",
    "            return False                    # un número entre 2 y la raiz del numero\n",
    "    return True                             #por optimización, porque si es divisible entre\n",
    "lista_primos = []                           #un numero mayor que su raiz tiene que serlo por \n",
    "for numero in lista:                        #otro mas pequeño que esta.\n",
    "    if es_primo(numero):\n",
    "        lista_primos.append(numero)\n",
    "\n",
    "print(lista_primos)"
   ]
  }
 ],
 "metadata": {
  "kernelspec": {
   "display_name": "base",
   "language": "python",
   "name": "python3"
  },
  "language_info": {
   "codemirror_mode": {
    "name": "ipython",
    "version": 3
   },
   "file_extension": ".py",
   "mimetype": "text/x-python",
   "name": "python",
   "nbconvert_exporter": "python",
   "pygments_lexer": "ipython3",
   "version": "3.9.16"
  },
  "orig_nbformat": 4
 },
 "nbformat": 4,
 "nbformat_minor": 2
}
