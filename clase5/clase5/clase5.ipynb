{
 "cells": [
  {
   "attachments": {},
   "cell_type": "markdown",
   "metadata": {},
   "source": [
    "# Repaso de archivos\n"
   ]
  },
  {
   "attachments": {},
   "cell_type": "markdown",
   "metadata": {},
   "source": [
    "............\n"
   ]
  },
  {
   "attachments": {},
   "cell_type": "markdown",
   "metadata": {},
   "source": [
    "## Corregimos el ejercicio de la clase vector de la clase 4\n"
   ]
  },
  {
   "cell_type": "code",
   "execution_count": null,
   "metadata": {},
   "outputs": [],
   "source": [
    "# Supongamos que tenemos una lista\n",
    "\n",
    "lst = ['a', 'b', 'c', 'd']\n",
    "\n",
    "for i in lst:\n",
    "    print(i)\n",
    "\n",
    "for i in range(len(lst)):\n",
    "    print(i)\n",
    "\n",
    "# Explicamos estas dos formas de acceder a elementos en un bucle."
   ]
  },
  {
   "attachments": {},
   "cell_type": "markdown",
   "metadata": {},
   "source": [
    "# Librerías o Módulos\n"
   ]
  },
  {
   "cell_type": "code",
   "execution_count": null,
   "metadata": {},
   "outputs": [],
   "source": [
    "# Vamos a importar la librería de ejemplo que hemos creado\n",
    "# Solo nos interesa importar la clase vector\n",
    "from vector import vector as vector"
   ]
  },
  {
   "cell_type": "code",
   "execution_count": null,
   "metadata": {},
   "outputs": [],
   "source": [
    "v1 = vector(1, 0, 0)\n",
    "print(v1.imprimir_vector())"
   ]
  },
  {
   "attachments": {},
   "cell_type": "markdown",
   "metadata": {},
   "source": [
    "# Paquetes:\n",
    "\n",
    "Carpeta donde has guardado varios módulos\n",
    "\n",
    "Esa carpeta la podemos tratar como un módulo.\n",
    "\n",
    "Accedemos a cada librería con paquete.librería\n"
   ]
  },
  {
   "cell_type": "code",
   "execution_count": 363,
   "metadata": {},
   "outputs": [],
   "source": [
    "import paquete as pck\n",
    "import paquete.vector as v"
   ]
  },
  {
   "cell_type": "code",
   "execution_count": 364,
   "metadata": {
    "tags": []
   },
   "outputs": [
    {
     "name": "stdout",
     "output_type": "stream",
     "text": [
      "(0.0,0.0,0.0)\n"
     ]
    }
   ],
   "source": [
    "print(v.vector(0, 0, 0).imprimir_vector())"
   ]
  },
  {
   "attachments": {},
   "cell_type": "markdown",
   "metadata": {},
   "source": [
    "# Importar módulos de terceros:\n",
    "\n",
    "se instalan en la terminal del entorno de 3 formas:\n",
    "\n",
    "    con pip: pip install package_name\n",
    "             pip install package_name==version\n",
    "             pip install pypdf2==3.0.1     # ejemplo\n",
    "             pip uninstall package_name\n",
    "\n",
    "        #pip list da los paquetes que tenemos en el entorno.\n",
    "    con conda: conda install package_name\n",
    "               conda upgrade package_name\n",
    "               # en conda se instalan tanto módulos como aplicaciones\n",
    "    usar repositorio de github:\n",
    "    pip install git+https:----------- el link copiado de git\n"
   ]
  },
  {
   "cell_type": "code",
   "execution_count": null,
   "metadata": {},
   "outputs": [],
   "source": []
  },
  {
   "attachments": {},
   "cell_type": "markdown",
   "metadata": {},
   "source": [
    "# Módulo para descargar cosas de youtube:\n"
   ]
  },
  {
   "cell_type": "code",
   "execution_count": 1,
   "metadata": {},
   "outputs": [],
   "source": [
    "from pytube import YouTube\n",
    "import os"
   ]
  },
  {
   "cell_type": "code",
   "execution_count": 95,
   "metadata": {},
   "outputs": [
    {
     "name": "stdout",
     "output_type": "stream",
     "text": [
      "My Curse\n",
      "Killswitch Engage\n",
      "My Curse has been successfully downloaded.\n"
     ]
    }
   ],
   "source": [
    "v = 'https://youtu.be/iPW9AbRMwFU'\n",
    "\n",
    "yt = YouTube(v)\n",
    "print(yt.title)\n",
    "print(yt.author)\n",
    "video = yt.streams.filter(only_audio=True).first()\n",
    "out_file = video.download()\n",
    "\n",
    "base, ext = os.path.splitext(out_file)\n",
    "new_file = base + '.mp3'\n",
    "os.rename(out_file, new_file)\n",
    "\n",
    "# result of success\n",
    "print(yt.title + \" has been successfully downloaded.\")"
   ]
  },
  {
   "cell_type": "code",
   "execution_count": 27,
   "metadata": {},
   "outputs": [
    {
     "name": "stdout",
     "output_type": "stream",
     "text": [
      "My Curse\n",
      "Killswitch Engage\n"
     ]
    }
   ],
   "source": [
    "v = 'https://youtu.be/iPW9AbRMwFU'\n",
    "\n",
    "yt = YouTube(v)\n",
    "print(yt.title)\n",
    "print(yt.author)"
   ]
  },
  {
   "attachments": {},
   "cell_type": "markdown",
   "metadata": {},
   "source": [
    "# Ejercicio\n",
    "\n",
    "16. Utilizando la librería Numpy, cree un programa que calcule el volumen y la superficie\n",
    "    de una esfera y al que se le puede pasar el radio o el diámetro.\n"
   ]
  },
  {
   "cell_type": "code",
   "execution_count": 1,
   "metadata": {},
   "outputs": [],
   "source": [
    "import numpy as np"
   ]
  },
  {
   "cell_type": "code",
   "execution_count": 2,
   "metadata": {},
   "outputs": [],
   "source": [
    "def get_esfera(radio=None, diametro=None):\n",
    "    '''Coge solo el radio o el diámetro \\n\n",
    "        Devuelve la superficie de la esfera y su volumen \\n\n",
    "        en una tupla de la forma (s,v)'''\n",
    "    if radio is not None:\n",
    "        r = float(radio)\n",
    "        s = 4 * np.pi * r**2\n",
    "        v = 4/3 * np.pi * r**3\n",
    "        return (s, v)\n",
    "    if diametro is not None:\n",
    "        r = float(diametro) / 2\n",
    "        s = 4 * np.pi * r**2\n",
    "        v = 4/3 * np.pi * r**3\n",
    "        return (s, v)"
   ]
  },
  {
   "cell_type": "code",
   "execution_count": 3,
   "metadata": {},
   "outputs": [
    {
     "name": "stdout",
     "output_type": "stream",
     "text": [
      "(12.566370614359172, 4.1887902047863905)\n",
      "(12.566370614359172, 4.1887902047863905)\n",
      "(12.566370614359172, 4.1887902047863905)\n",
      "(12.566370614359172, 4.1887902047863905)\n"
     ]
    }
   ],
   "source": [
    "print(get_esfera(radio=1))\n",
    "print(get_esfera(diametro=2))\n",
    "print(get_esfera(1))\n",
    "print(get_esfera(radio=1, diametro=1))"
   ]
  },
  {
   "attachments": {},
   "cell_type": "markdown",
   "metadata": {},
   "source": [
    "en la clase de mañana:\n",
    "\n",
    "## Decoradores y tratamiento de excepciones\n"
   ]
  },
  {
   "cell_type": "code",
   "execution_count": null,
   "metadata": {},
   "outputs": [],
   "source": []
  }
 ],
 "metadata": {
  "kernelspec": {
   "display_name": "cursoIA",
   "language": "python",
   "name": "python3"
  },
  "language_info": {
   "codemirror_mode": {
    "name": "ipython",
    "version": 3
   },
   "file_extension": ".py",
   "mimetype": "text/x-python",
   "name": "python",
   "nbconvert_exporter": "python",
   "pygments_lexer": "ipython3",
   "version": "3.9.16"
  },
  "orig_nbformat": 4
 },
 "nbformat": 4,
 "nbformat_minor": 2
}
